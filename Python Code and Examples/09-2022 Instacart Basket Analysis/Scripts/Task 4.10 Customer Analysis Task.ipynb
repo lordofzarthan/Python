{
 "cells": [
  {
   "cell_type": "markdown",
   "id": "b1b443bf",
   "metadata": {},
   "source": [
    "# 4.10: Customer Analysis Task"
   ]
  },
  {
   "cell_type": "markdown",
   "id": "fbfeedcf",
   "metadata": {},
   "source": [
    "### 01.Importing libraries\n",
    "### 02.Importing Data\n",
    "### 03.Data Privacy\n",
    "### 04.Creating Regions: Northeast, Midwest, South, West\n",
    "### 05.Comparing Regions\n",
    "### 06.Creating Customer Profiles\n",
    "### 07.Customer Profile Vizualizations\n",
    "### 09.Exporting Final Dataset"
   ]
  },
  {
   "cell_type": "markdown",
   "id": "51a4e948",
   "metadata": {},
   "source": [
    "## 1. Import the data set you exported in Exercise 4.9 into a new Jupyter notebook. This should be the merged version of your data that contains the new customers column."
   ]
  },
  {
   "cell_type": "code",
   "execution_count": 1,
   "id": "4ff2dccd",
   "metadata": {},
   "outputs": [],
   "source": [
    "#import libraries\n",
    "import pandas as pd\n",
    "import numpy as np\n",
    "import os\n",
    "import matplotlib.pyplot as ply\n",
    "import seaborn as sns\n",
    "import scipy"
   ]
  },
  {
   "cell_type": "code",
   "execution_count": 2,
   "id": "2ad2f26c",
   "metadata": {},
   "outputs": [],
   "source": [
    "#Define path\n",
    "path = r'C:\\Users\\Josh Abrams\\Desktop\\09-2022 Instacart Basket Analysis'"
   ]
  },
  {
   "cell_type": "code",
   "execution_count": 3,
   "id": "0a1367a0",
   "metadata": {},
   "outputs": [],
   "source": [
    "#import fully merged instacart data\n",
    "df_cust = pd.read_pickle(os.path.join(path, 'Data', 'Prepared Data', 'full_instacart_data.pkl'))"
   ]
  },
  {
   "cell_type": "markdown",
   "id": "2b0d0ed3",
   "metadata": {},
   "source": [
    "## 3: The Instacart officers are interested in comparing customer behavior in different geographic areas. Create a regional segmentation of the data. You’ll need to create a “Region” column based on the “State” column from your customers data set."
   ]
  },
  {
   "cell_type": "code",
   "execution_count": 4,
   "id": "13f0d68a",
   "metadata": {},
   "outputs": [],
   "source": [
    "#creating a 'Regions' column based on the 'State' column\n",
    "result = []\n",
    "\n",
    "for value in df_cust['state']:\n",
    "    if value in('Maine', 'New Hampshire', 'Vermont', 'Massachusetts', 'Rhode Island', 'Connecticut', 'New York', 'Pennsylvania', 'New Jersey'):\n",
    "        result.append('Northeast')\n",
    "    elif value in('Wisconsin', 'Michigan', 'Illinois', 'Indiana', 'Ohio', 'North Dakota', 'South Dakota', 'Nebraska', 'Kansas', 'Minnesota', 'Iowa', 'Missouri'):\n",
    "        result.append('Midwest')\n",
    "    elif value in('Delaware', 'Maryland', 'District of Columbia', 'Virginia', 'West Virginia', 'North Carolina', 'South Carolina', 'Georgia', 'Florida', 'Kentucky', 'Tennessee', 'Mississippi', 'Alabama', 'Oklahoma', 'Texas', 'Arkansas', 'Louisiana'):\n",
    "        result.append('South')\n",
    "    elif value in('Idaho', 'Montana', 'Wyoming', 'Nevada', 'Utah', 'Colorado', 'Arizona', 'New Mexico', 'Alaska', 'Washington', 'Oregon', 'California', 'Hawaii'):\n",
    "        result.append('West')"
   ]
  },
  {
   "cell_type": "code",
   "execution_count": 5,
   "id": "8a30413d",
   "metadata": {},
   "outputs": [],
   "source": [
    "#creating 'Region' column based on results\n",
    "df_cust['region'] = result"
   ]
  },
  {
   "cell_type": "code",
   "execution_count": 6,
   "id": "f979ce8a",
   "metadata": {},
   "outputs": [
    {
     "data": {
      "text/plain": [
       "South        10791885\n",
       "West          8292913\n",
       "Midwest       7597325\n",
       "Northeast     5722736\n",
       "Name: region, dtype: int64"
      ]
     },
     "execution_count": 6,
     "metadata": {},
     "output_type": "execute_result"
    }
   ],
   "source": [
    "#checking output of new column\n",
    "df_cust['region'].value_counts(dropna = False)"
   ]
  },
  {
   "cell_type": "markdown",
   "id": "db4eb77c",
   "metadata": {},
   "source": [
    "## 3b: Determine whether there’s a difference in spending habits between the different U.S. regions."
   ]
  },
  {
   "cell_type": "code",
   "execution_count": 7,
   "id": "45f33911",
   "metadata": {},
   "outputs": [],
   "source": [
    "#crossing region and spending flag\n",
    "crosstab = pd.crosstab(df_cust['region'], df_cust['spending_flag'], dropna = False)"
   ]
  },
  {
   "cell_type": "code",
   "execution_count": 8,
   "id": "fe91c80f",
   "metadata": {},
   "outputs": [],
   "source": [
    "crosstab.to_clipboard()"
   ]
  },
  {
   "cell_type": "code",
   "execution_count": 9,
   "id": "c680fc09",
   "metadata": {},
   "outputs": [],
   "source": [
    "#chart from excel when using paste option\n",
    "##Region\tHigh Spender\tLow Spender\n",
    "##Midwest \t139516 \t 7441239\n",
    "##Northeast\t98184\t 5614511\n",
    "##South\t189841 \t 10582034\n",
    "##West\t147755 \t 8132435"
   ]
  },
  {
   "cell_type": "code",
   "execution_count": 10,
   "id": "1bd788a7",
   "metadata": {},
   "outputs": [
    {
     "data": {
      "text/html": [
       "<div>\n",
       "<style scoped>\n",
       "    .dataframe tbody tr th:only-of-type {\n",
       "        vertical-align: middle;\n",
       "    }\n",
       "\n",
       "    .dataframe tbody tr th {\n",
       "        vertical-align: top;\n",
       "    }\n",
       "\n",
       "    .dataframe thead th {\n",
       "        text-align: right;\n",
       "    }\n",
       "</style>\n",
       "<table border=\"1\" class=\"dataframe\">\n",
       "  <thead>\n",
       "    <tr style=\"text-align: right;\">\n",
       "      <th>spending_flag</th>\n",
       "      <th>High spender</th>\n",
       "      <th>Low spender</th>\n",
       "    </tr>\n",
       "    <tr>\n",
       "      <th>region</th>\n",
       "      <th></th>\n",
       "      <th></th>\n",
       "    </tr>\n",
       "  </thead>\n",
       "  <tbody>\n",
       "    <tr>\n",
       "      <th>Midwest</th>\n",
       "      <td>155975</td>\n",
       "      <td>7441350</td>\n",
       "    </tr>\n",
       "    <tr>\n",
       "      <th>Northeast</th>\n",
       "      <td>108225</td>\n",
       "      <td>5614511</td>\n",
       "    </tr>\n",
       "    <tr>\n",
       "      <th>South</th>\n",
       "      <td>209691</td>\n",
       "      <td>10582194</td>\n",
       "    </tr>\n",
       "    <tr>\n",
       "      <th>West</th>\n",
       "      <td>160354</td>\n",
       "      <td>8132559</td>\n",
       "    </tr>\n",
       "  </tbody>\n",
       "</table>\n",
       "</div>"
      ],
      "text/plain": [
       "spending_flag  High spender  Low spender\n",
       "region                                  \n",
       "Midwest              155975      7441350\n",
       "Northeast            108225      5614511\n",
       "South                209691     10582194\n",
       "West                 160354      8132559"
      ]
     },
     "execution_count": 10,
     "metadata": {},
     "output_type": "execute_result"
    }
   ],
   "source": [
    "crosstab"
   ]
  },
  {
   "cell_type": "markdown",
   "id": "c5ce7d8b",
   "metadata": {},
   "source": [
    "#### The South has the highest spenders for both high and low categories. This could be due to this region having more states thus more customers. "
   ]
  },
  {
   "cell_type": "markdown",
   "id": "ea3ba046",
   "metadata": {},
   "source": [
    "## 4: The Instacart CFO isn’t interested in customers who don’t generate much revenue for the app. Create an exclusion flag for low-activity customers (customers with less than 5 orders) and exclude them from the data. Make sure you export this sample."
   ]
  },
  {
   "cell_type": "code",
   "execution_count": 11,
   "id": "79c8f9c4",
   "metadata": {},
   "outputs": [],
   "source": [
    "#creating an exclusion flag for less than 5 orders\n",
    "df_cust.loc[df_cust['max_order'] < 5, 'activity'] = 'Low Activity'\n",
    "df_cust.loc[df_cust['max_order'] >= 5, 'activity'] = 'Active'"
   ]
  },
  {
   "cell_type": "code",
   "execution_count": 12,
   "id": "47814308",
   "metadata": {},
   "outputs": [
    {
     "data": {
      "text/plain": [
       "Active          30964564\n",
       "Low Activity     1440295\n",
       "Name: activity, dtype: int64"
      ]
     },
     "execution_count": 12,
     "metadata": {},
     "output_type": "execute_result"
    }
   ],
   "source": [
    "#checking frequency of new column\n",
    "df_cust['activity'].value_counts(dropna = False)"
   ]
  },
  {
   "cell_type": "code",
   "execution_count": 13,
   "id": "196aa39d",
   "metadata": {},
   "outputs": [
    {
     "data": {
      "text/plain": [
       "(32404859, 36)"
      ]
     },
     "execution_count": 13,
     "metadata": {},
     "output_type": "execute_result"
    }
   ],
   "source": [
    "df_cust.shape"
   ]
  },
  {
   "cell_type": "code",
   "execution_count": 14,
   "id": "2a4b963e",
   "metadata": {},
   "outputs": [],
   "source": [
    "#create a dataframe of low_activity customers\n",
    "low_activity = df_cust[df_cust['activity'] == 'Low Activity']"
   ]
  },
  {
   "cell_type": "code",
   "execution_count": 15,
   "id": "4f9a94d4",
   "metadata": {},
   "outputs": [],
   "source": [
    "#create dataframe for active customers\n",
    "active = df_cust[df_cust['activity']== 'Active']"
   ]
  },
  {
   "cell_type": "code",
   "execution_count": 16,
   "id": "121be3e1",
   "metadata": {},
   "outputs": [],
   "source": [
    "#export low_activity dataframe \n",
    "low_activity.to_pickle(os.path.join(path, 'Data','Prepared Data', 'low_activity_customers.pkl')) "
   ]
  },
  {
   "cell_type": "code",
   "execution_count": 17,
   "id": "3f9158e6",
   "metadata": {},
   "outputs": [
    {
     "data": {
      "text/plain": [
       "(30964564, 36)"
      ]
     },
     "execution_count": 17,
     "metadata": {},
     "output_type": "execute_result"
    }
   ],
   "source": [
    "active.shape"
   ]
  },
  {
   "cell_type": "markdown",
   "id": "880b101c",
   "metadata": {},
   "source": [
    "## 5: The marketing and business strategy units at Instacart want to create more-relevant marketing strategies for different products and are, thus, curious about customer profiling in their database. Create a profiling variable based on age, income, certain goods in the “department_id” column, and number of dependents. You might also use the “orders_day_of_the_week” and “order_hour_of_day” columns if you can think of a way they would impact customer profiles. (Hint: As an example, try thinking of what characteristics would lead you to the profile “Single adult” or “Young parent.”)"
   ]
  },
  {
   "cell_type": "markdown",
   "id": "4efcc717",
   "metadata": {},
   "source": [
    "#### creating an age flag for customers"
   ]
  },
  {
   "cell_type": "code",
   "execution_count": 18,
   "id": "fa3f5033",
   "metadata": {},
   "outputs": [
    {
     "name": "stderr",
     "output_type": "stream",
     "text": [
      "C:\\Users\\Josh Abrams\\AppData\\Local\\Temp\\ipykernel_3924\\3791350473.py:2: SettingWithCopyWarning: \n",
      "A value is trying to be set on a copy of a slice from a DataFrame.\n",
      "Try using .loc[row_indexer,col_indexer] = value instead\n",
      "\n",
      "See the caveats in the documentation: https://pandas.pydata.org/pandas-docs/stable/user_guide/indexing.html#returning-a-view-versus-a-copy\n",
      "  active.loc[active['age'] <= 25, 'age_group'] = 'Young Adult'\n"
     ]
    }
   ],
   "source": [
    "#creating an age flag for customers\n",
    "active.loc[active['age'] <= 25, 'age_group'] = 'Young Adult'\n",
    "active.loc[(active['age'] > 25) & (active['age'] < 65 ), 'age_group'] = 'Adult'\n",
    "active.loc[active['age'] >= 65, 'age_group'] = 'Senior'"
   ]
  },
  {
   "cell_type": "code",
   "execution_count": 19,
   "id": "8f7dea82",
   "metadata": {},
   "outputs": [
    {
     "data": {
      "text/plain": [
       "Adult          18904502\n",
       "Senior          8195544\n",
       "Young Adult     3864518\n",
       "Name: age_group, dtype: int64"
      ]
     },
     "execution_count": 19,
     "metadata": {},
     "output_type": "execute_result"
    }
   ],
   "source": [
    "#checking frequency of new column\n",
    "active['age_group'].value_counts(dropna = False)"
   ]
  },
  {
   "cell_type": "code",
   "execution_count": 20,
   "id": "5eeb0adb",
   "metadata": {},
   "outputs": [
    {
     "data": {
      "image/png": "[encoded data removed]",
      "text/plain": [
       "<Figure size 640x480 with 1 Axes>"
      ]
     },
     "metadata": {},
     "output_type": "display_data"
    }
   ],
   "source": [
    "#creating a bar chart\n",
    "bar = active['age_group'].value_counts().plot.bar()"
   ]
  },
  {
   "cell_type": "code",
   "execution_count": 21,
   "id": "d1e308f6",
   "metadata": {},
   "outputs": [],
   "source": [
    "#saving bar chart to file\n",
    "bar.figure.savefig(os.path.join(path, 'Analysis','Visualizations', 'bar_age_groups.png'))"
   ]
  },
  {
   "cell_type": "code",
   "execution_count": 22,
   "id": "348b44b6",
   "metadata": {},
   "outputs": [
    {
     "data": {
      "text/html": [
       "<div>\n",
       "<style scoped>\n",
       "    .dataframe tbody tr th:only-of-type {\n",
       "        vertical-align: middle;\n",
       "    }\n",
       "\n",
       "    .dataframe tbody tr th {\n",
       "        vertical-align: top;\n",
       "    }\n",
       "\n",
       "    .dataframe thead tr th {\n",
       "        text-align: left;\n",
       "    }\n",
       "\n",
       "    .dataframe thead tr:last-of-type th {\n",
       "        text-align: right;\n",
       "    }\n",
       "</style>\n",
       "<table border=\"1\" class=\"dataframe\">\n",
       "  <thead>\n",
       "    <tr>\n",
       "      <th></th>\n",
       "      <th colspan=\"3\" halign=\"left\">median_days_since_previous_order</th>\n",
       "    </tr>\n",
       "    <tr>\n",
       "      <th></th>\n",
       "      <th>mean</th>\n",
       "      <th>min</th>\n",
       "      <th>max</th>\n",
       "    </tr>\n",
       "    <tr>\n",
       "      <th>age_group</th>\n",
       "      <th></th>\n",
       "      <th></th>\n",
       "      <th></th>\n",
       "    </tr>\n",
       "  </thead>\n",
       "  <tbody>\n",
       "    <tr>\n",
       "      <th>Adult</th>\n",
       "      <td>9.971613</td>\n",
       "      <td>0.0</td>\n",
       "      <td>30.0</td>\n",
       "    </tr>\n",
       "    <tr>\n",
       "      <th>Senior</th>\n",
       "      <td>9.933025</td>\n",
       "      <td>0.0</td>\n",
       "      <td>30.0</td>\n",
       "    </tr>\n",
       "    <tr>\n",
       "      <th>Young Adult</th>\n",
       "      <td>9.937482</td>\n",
       "      <td>0.0</td>\n",
       "      <td>30.0</td>\n",
       "    </tr>\n",
       "  </tbody>\n",
       "</table>\n",
       "</div>"
      ],
      "text/plain": [
       "            median_days_since_previous_order           \n",
       "                                        mean  min   max\n",
       "age_group                                              \n",
       "Adult                               9.971613  0.0  30.0\n",
       "Senior                              9.933025  0.0  30.0\n",
       "Young Adult                         9.937482  0.0  30.0"
      ]
     },
     "execution_count": 22,
     "metadata": {},
     "output_type": "execute_result"
    }
   ],
   "source": [
    "#aggregate for age group usage frequency\n",
    "active.groupby('age_group').agg({'median_days_since_previous_order': ['mean', 'min', 'max']})"
   ]
  },
  {
   "cell_type": "code",
   "execution_count": 23,
   "id": "89df1f61",
   "metadata": {},
   "outputs": [
    {
     "data": {
      "text/html": [
       "<div>\n",
       "<style scoped>\n",
       "    .dataframe tbody tr th:only-of-type {\n",
       "        vertical-align: middle;\n",
       "    }\n",
       "\n",
       "    .dataframe tbody tr th {\n",
       "        vertical-align: top;\n",
       "    }\n",
       "\n",
       "    .dataframe thead tr th {\n",
       "        text-align: left;\n",
       "    }\n",
       "\n",
       "    .dataframe thead tr:last-of-type th {\n",
       "        text-align: right;\n",
       "    }\n",
       "</style>\n",
       "<table border=\"1\" class=\"dataframe\">\n",
       "  <thead>\n",
       "    <tr>\n",
       "      <th></th>\n",
       "      <th colspan=\"3\" halign=\"left\">mean_price</th>\n",
       "    </tr>\n",
       "    <tr>\n",
       "      <th></th>\n",
       "      <th>mean</th>\n",
       "      <th>min</th>\n",
       "      <th>max</th>\n",
       "    </tr>\n",
       "    <tr>\n",
       "      <th>age_group</th>\n",
       "      <th></th>\n",
       "      <th></th>\n",
       "      <th></th>\n",
       "    </tr>\n",
       "  </thead>\n",
       "  <tbody>\n",
       "    <tr>\n",
       "      <th>Adult</th>\n",
       "      <td>11.953327</td>\n",
       "      <td>1.0000</td>\n",
       "      <td>15006.940000</td>\n",
       "    </tr>\n",
       "    <tr>\n",
       "      <th>Senior</th>\n",
       "      <td>11.757768</td>\n",
       "      <td>1.2625</td>\n",
       "      <td>14042.512281</td>\n",
       "    </tr>\n",
       "    <tr>\n",
       "      <th>Young Adult</th>\n",
       "      <td>12.209359</td>\n",
       "      <td>2.0000</td>\n",
       "      <td>10209.987755</td>\n",
       "    </tr>\n",
       "  </tbody>\n",
       "</table>\n",
       "</div>"
      ],
      "text/plain": [
       "            mean_price                      \n",
       "                  mean     min           max\n",
       "age_group                                   \n",
       "Adult        11.953327  1.0000  15006.940000\n",
       "Senior       11.757768  1.2625  14042.512281\n",
       "Young Adult  12.209359  2.0000  10209.987755"
      ]
     },
     "execution_count": 23,
     "metadata": {},
     "output_type": "execute_result"
    }
   ],
   "source": [
    "#aggregate for age group expenditures\n",
    "active.groupby('age_group').agg({'mean_price': ['mean', 'min', 'max']})"
   ]
  },
  {
   "cell_type": "markdown",
   "id": "dc2e603f",
   "metadata": {},
   "source": [
    "#### creating an income_class flag for customers"
   ]
  },
  {
   "cell_type": "code",
   "execution_count": 24,
   "id": "24761220",
   "metadata": {},
   "outputs": [
    {
     "name": "stderr",
     "output_type": "stream",
     "text": [
      "C:\\Users\\Josh Abrams\\AppData\\Local\\Temp\\ipykernel_3924\\3937753944.py:2: SettingWithCopyWarning: \n",
      "A value is trying to be set on a copy of a slice from a DataFrame.\n",
      "Try using .loc[row_indexer,col_indexer] = value instead\n",
      "\n",
      "See the caveats in the documentation: https://pandas.pydata.org/pandas-docs/stable/user_guide/indexing.html#returning-a-view-versus-a-copy\n",
      "  active.loc[active['income'] <= 52000, 'income_class'] = 'Lower Class'\n"
     ]
    }
   ],
   "source": [
    "#creating an income_class flag for customers\n",
    "active.loc[active['income'] <= 52000, 'income_class'] = 'Lower Class'\n",
    "active.loc[(active['income'] > 52000) & (active['income'] < 156000 ), 'income_class'] = 'Middle Class'\n",
    "active.loc[active['income'] >= 156000, 'income_class'] = 'Upper Class'"
   ]
  },
  {
   "cell_type": "code",
   "execution_count": 25,
   "id": "7aa93c31",
   "metadata": {},
   "outputs": [
    {
     "data": {
      "text/plain": [
       "Middle Class    24490104\n",
       "Lower Class      3632814\n",
       "Upper Class      2841646\n",
       "Name: income_class, dtype: int64"
      ]
     },
     "execution_count": 25,
     "metadata": {},
     "output_type": "execute_result"
    }
   ],
   "source": [
    "active['income_class'].value_counts(dropna = False)"
   ]
  },
  {
   "cell_type": "code",
   "execution_count": 26,
   "id": "2fc0a99f",
   "metadata": {},
   "outputs": [
    {
     "data": {
      "image/png": "[encoded data removed]",
      "text/plain": [
       "<Figure size 640x480 with 1 Axes>"
      ]
     },
     "metadata": {},
     "output_type": "display_data"
    }
   ],
   "source": [
    "#creating a bar chart\n",
    "bar2 = active['income_class'].value_counts().plot.bar()"
   ]
  },
  {
   "cell_type": "code",
   "execution_count": 27,
   "id": "b65248b1",
   "metadata": {},
   "outputs": [],
   "source": [
    "#saving bar chart to file\n",
    "bar2.figure.savefig(os.path.join(path, 'Analysis','Visualizations', 'bar_income_class.png'))"
   ]
  },
  {
   "cell_type": "code",
   "execution_count": 28,
   "id": "447139bb",
   "metadata": {},
   "outputs": [
    {
     "data": {
      "text/html": [
       "<div>\n",
       "<style scoped>\n",
       "    .dataframe tbody tr th:only-of-type {\n",
       "        vertical-align: middle;\n",
       "    }\n",
       "\n",
       "    .dataframe tbody tr th {\n",
       "        vertical-align: top;\n",
       "    }\n",
       "\n",
       "    .dataframe thead tr th {\n",
       "        text-align: left;\n",
       "    }\n",
       "\n",
       "    .dataframe thead tr:last-of-type th {\n",
       "        text-align: right;\n",
       "    }\n",
       "</style>\n",
       "<table border=\"1\" class=\"dataframe\">\n",
       "  <thead>\n",
       "    <tr>\n",
       "      <th></th>\n",
       "      <th colspan=\"3\" halign=\"left\">median_days_since_previous_order</th>\n",
       "    </tr>\n",
       "    <tr>\n",
       "      <th></th>\n",
       "      <th>mean</th>\n",
       "      <th>min</th>\n",
       "      <th>max</th>\n",
       "    </tr>\n",
       "    <tr>\n",
       "      <th>income_class</th>\n",
       "      <th></th>\n",
       "      <th></th>\n",
       "      <th></th>\n",
       "    </tr>\n",
       "  </thead>\n",
       "  <tbody>\n",
       "    <tr>\n",
       "      <th>Lower Class</th>\n",
       "      <td>10.493952</td>\n",
       "      <td>0.0</td>\n",
       "      <td>30.0</td>\n",
       "    </tr>\n",
       "    <tr>\n",
       "      <th>Middle Class</th>\n",
       "      <td>9.899040</td>\n",
       "      <td>0.0</td>\n",
       "      <td>30.0</td>\n",
       "    </tr>\n",
       "    <tr>\n",
       "      <th>Upper Class</th>\n",
       "      <td>9.771593</td>\n",
       "      <td>0.0</td>\n",
       "      <td>30.0</td>\n",
       "    </tr>\n",
       "  </tbody>\n",
       "</table>\n",
       "</div>"
      ],
      "text/plain": [
       "             median_days_since_previous_order           \n",
       "                                         mean  min   max\n",
       "income_class                                            \n",
       "Lower Class                         10.493952  0.0  30.0\n",
       "Middle Class                         9.899040  0.0  30.0\n",
       "Upper Class                          9.771593  0.0  30.0"
      ]
     },
     "execution_count": 28,
     "metadata": {},
     "output_type": "execute_result"
    }
   ],
   "source": [
    "#aggregate for income class usage frequency\n",
    "active.groupby('income_class').agg({'median_days_since_previous_order': ['mean', 'min', 'max']})"
   ]
  },
  {
   "cell_type": "code",
   "execution_count": 29,
   "id": "2127878f",
   "metadata": {},
   "outputs": [
    {
     "data": {
      "text/html": [
       "<div>\n",
       "<style scoped>\n",
       "    .dataframe tbody tr th:only-of-type {\n",
       "        vertical-align: middle;\n",
       "    }\n",
       "\n",
       "    .dataframe tbody tr th {\n",
       "        vertical-align: top;\n",
       "    }\n",
       "\n",
       "    .dataframe thead tr th {\n",
       "        text-align: left;\n",
       "    }\n",
       "\n",
       "    .dataframe thead tr:last-of-type th {\n",
       "        text-align: right;\n",
       "    }\n",
       "</style>\n",
       "<table border=\"1\" class=\"dataframe\">\n",
       "  <thead>\n",
       "    <tr>\n",
       "      <th></th>\n",
       "      <th colspan=\"3\" halign=\"left\">mean_price</th>\n",
       "    </tr>\n",
       "    <tr>\n",
       "      <th></th>\n",
       "      <th>mean</th>\n",
       "      <th>min</th>\n",
       "      <th>max</th>\n",
       "    </tr>\n",
       "    <tr>\n",
       "      <th>income_class</th>\n",
       "      <th></th>\n",
       "      <th></th>\n",
       "      <th></th>\n",
       "    </tr>\n",
       "  </thead>\n",
       "  <tbody>\n",
       "    <tr>\n",
       "      <th>Lower Class</th>\n",
       "      <td>6.751973</td>\n",
       "      <td>1.0</td>\n",
       "      <td>13.878571</td>\n",
       "    </tr>\n",
       "    <tr>\n",
       "      <th>Middle Class</th>\n",
       "      <td>9.590213</td>\n",
       "      <td>1.3</td>\n",
       "      <td>14042.512281</td>\n",
       "    </tr>\n",
       "    <tr>\n",
       "      <th>Upper Class</th>\n",
       "      <td>38.753004</td>\n",
       "      <td>7.0</td>\n",
       "      <td>15006.940000</td>\n",
       "    </tr>\n",
       "  </tbody>\n",
       "</table>\n",
       "</div>"
      ],
      "text/plain": [
       "             mean_price                   \n",
       "                   mean  min           max\n",
       "income_class                              \n",
       "Lower Class    6.751973  1.0     13.878571\n",
       "Middle Class   9.590213  1.3  14042.512281\n",
       "Upper Class   38.753004  7.0  15006.940000"
      ]
     },
     "execution_count": 29,
     "metadata": {},
     "output_type": "execute_result"
    }
   ],
   "source": [
    "#aggregate for income class expenditures\n",
    "active.groupby('income_class').agg({'mean_price': ['mean', 'min', 'max']})"
   ]
  },
  {
   "cell_type": "markdown",
   "id": "aa365445",
   "metadata": {},
   "source": [
    "#### crossing marital status and num of dependants"
   ]
  },
  {
   "cell_type": "code",
   "execution_count": 30,
   "id": "ab9e42f1",
   "metadata": {},
   "outputs": [],
   "source": [
    "#crossing marital status and num of dependants\n",
    "crosstab1 = pd.crosstab(active['marital_status'], active['num_dpdnts'], dropna = False)"
   ]
  },
  {
   "cell_type": "code",
   "execution_count": 31,
   "id": "ececa051",
   "metadata": {},
   "outputs": [
    {
     "data": {
      "text/html": [
       "<div>\n",
       "<style scoped>\n",
       "    .dataframe tbody tr th:only-of-type {\n",
       "        vertical-align: middle;\n",
       "    }\n",
       "\n",
       "    .dataframe tbody tr th {\n",
       "        vertical-align: top;\n",
       "    }\n",
       "\n",
       "    .dataframe thead th {\n",
       "        text-align: right;\n",
       "    }\n",
       "</style>\n",
       "<table border=\"1\" class=\"dataframe\">\n",
       "  <thead>\n",
       "    <tr style=\"text-align: right;\">\n",
       "      <th>num_dpdnts</th>\n",
       "      <th>0</th>\n",
       "      <th>1</th>\n",
       "      <th>2</th>\n",
       "      <th>3</th>\n",
       "    </tr>\n",
       "    <tr>\n",
       "      <th>marital_status</th>\n",
       "      <th></th>\n",
       "      <th></th>\n",
       "      <th></th>\n",
       "      <th></th>\n",
       "    </tr>\n",
       "  </thead>\n",
       "  <tbody>\n",
       "    <tr>\n",
       "      <th>divorced/widowed</th>\n",
       "      <td>2645271</td>\n",
       "      <td>0</td>\n",
       "      <td>0</td>\n",
       "      <td>0</td>\n",
       "    </tr>\n",
       "    <tr>\n",
       "      <th>living with parents and siblings</th>\n",
       "      <td>0</td>\n",
       "      <td>508045</td>\n",
       "      <td>484658</td>\n",
       "      <td>488469</td>\n",
       "    </tr>\n",
       "    <tr>\n",
       "      <th>married</th>\n",
       "      <td>0</td>\n",
       "      <td>7211061</td>\n",
       "      <td>7248603</td>\n",
       "      <td>7284047</td>\n",
       "    </tr>\n",
       "    <tr>\n",
       "      <th>single</th>\n",
       "      <td>5094410</td>\n",
       "      <td>0</td>\n",
       "      <td>0</td>\n",
       "      <td>0</td>\n",
       "    </tr>\n",
       "  </tbody>\n",
       "</table>\n",
       "</div>"
      ],
      "text/plain": [
       "num_dpdnts                              0        1        2        3\n",
       "marital_status                                                      \n",
       "divorced/widowed                  2645271        0        0        0\n",
       "living with parents and siblings        0   508045   484658   488469\n",
       "married                                 0  7211061  7248603  7284047\n",
       "single                            5094410        0        0        0"
      ]
     },
     "execution_count": 31,
     "metadata": {},
     "output_type": "execute_result"
    }
   ],
   "source": [
    "crosstab1"
   ]
  },
  {
   "cell_type": "code",
   "execution_count": 32,
   "id": "d084de39",
   "metadata": {},
   "outputs": [
    {
     "data": {
      "image/png": "[encoded data removed]",
      "text/plain": [
       "<Figure size 640x480 with 1 Axes>"
      ]
     },
     "metadata": {},
     "output_type": "display_data"
    }
   ],
   "source": [
    "#create a horizontal bar chart\n",
    "bar2 = crosstab1.plot.barh()"
   ]
  },
  {
   "cell_type": "code",
   "execution_count": 33,
   "id": "a197e3e1",
   "metadata": {},
   "outputs": [],
   "source": [
    "#saving bar chart to file\n",
    "bar2.figure.savefig(os.path.join(path, 'Analysis','Visualizations', 'barh_marital_and_dependants.png'))"
   ]
  },
  {
   "cell_type": "markdown",
   "id": "a058a091",
   "metadata": {},
   "source": [
    "#### crossing income class and num of dependants"
   ]
  },
  {
   "cell_type": "code",
   "execution_count": 34,
   "id": "219ae6ff",
   "metadata": {},
   "outputs": [],
   "source": [
    "#crossing income class and num of dependants\n",
    "crosstab2 = pd.crosstab(active['income_class'], active['num_dpdnts'], dropna = False)"
   ]
  },
  {
   "cell_type": "code",
   "execution_count": 35,
   "id": "fada2492",
   "metadata": {},
   "outputs": [
    {
     "data": {
      "text/html": [
       "<div>\n",
       "<style scoped>\n",
       "    .dataframe tbody tr th:only-of-type {\n",
       "        vertical-align: middle;\n",
       "    }\n",
       "\n",
       "    .dataframe tbody tr th {\n",
       "        vertical-align: top;\n",
       "    }\n",
       "\n",
       "    .dataframe thead th {\n",
       "        text-align: right;\n",
       "    }\n",
       "</style>\n",
       "<table border=\"1\" class=\"dataframe\">\n",
       "  <thead>\n",
       "    <tr style=\"text-align: right;\">\n",
       "      <th>num_dpdnts</th>\n",
       "      <th>0</th>\n",
       "      <th>1</th>\n",
       "      <th>2</th>\n",
       "      <th>3</th>\n",
       "    </tr>\n",
       "    <tr>\n",
       "      <th>income_class</th>\n",
       "      <th></th>\n",
       "      <th></th>\n",
       "      <th></th>\n",
       "      <th></th>\n",
       "    </tr>\n",
       "  </thead>\n",
       "  <tbody>\n",
       "    <tr>\n",
       "      <th>Lower Class</th>\n",
       "      <td>909600</td>\n",
       "      <td>891742</td>\n",
       "      <td>918750</td>\n",
       "      <td>912722</td>\n",
       "    </tr>\n",
       "    <tr>\n",
       "      <th>Middle Class</th>\n",
       "      <td>6103722</td>\n",
       "      <td>6130253</td>\n",
       "      <td>6095321</td>\n",
       "      <td>6160808</td>\n",
       "    </tr>\n",
       "    <tr>\n",
       "      <th>Upper Class</th>\n",
       "      <td>726359</td>\n",
       "      <td>697111</td>\n",
       "      <td>719190</td>\n",
       "      <td>698986</td>\n",
       "    </tr>\n",
       "  </tbody>\n",
       "</table>\n",
       "</div>"
      ],
      "text/plain": [
       "num_dpdnts          0        1        2        3\n",
       "income_class                                    \n",
       "Lower Class    909600   891742   918750   912722\n",
       "Middle Class  6103722  6130253  6095321  6160808\n",
       "Upper Class    726359   697111   719190   698986"
      ]
     },
     "execution_count": 35,
     "metadata": {},
     "output_type": "execute_result"
    }
   ],
   "source": [
    "crosstab2"
   ]
  },
  {
   "cell_type": "code",
   "execution_count": 36,
   "id": "b0ed3fe4",
   "metadata": {},
   "outputs": [
    {
     "data": {
      "image/png": "[encoded data removed]",
      "text/plain": [
       "<Figure size 640x480 with 1 Axes>"
      ]
     },
     "metadata": {},
     "output_type": "display_data"
    }
   ],
   "source": [
    "#create a horizontal bar chart\n",
    "bar3 = crosstab2.plot.barh()"
   ]
  },
  {
   "cell_type": "code",
   "execution_count": 37,
   "id": "4a8d3e57",
   "metadata": {},
   "outputs": [],
   "source": [
    "#saving bar chart to file\n",
    "bar3.figure.savefig(os.path.join(path, 'Analysis','Visualizations', 'barh_income_dependants.png'))"
   ]
  },
  {
   "cell_type": "markdown",
   "id": "f08bcadc",
   "metadata": {},
   "source": [
    "#### crossing marital status and age group"
   ]
  },
  {
   "cell_type": "code",
   "execution_count": 38,
   "id": "e221ec3d",
   "metadata": {},
   "outputs": [],
   "source": [
    "#crossing marital status and age group\n",
    "crosstab3 = pd.crosstab(active['marital_status'], active['age_group'], dropna = False)"
   ]
  },
  {
   "cell_type": "code",
   "execution_count": 39,
   "id": "64419dd4",
   "metadata": {},
   "outputs": [
    {
     "data": {
      "text/html": [
       "<div>\n",
       "<style scoped>\n",
       "    .dataframe tbody tr th:only-of-type {\n",
       "        vertical-align: middle;\n",
       "    }\n",
       "\n",
       "    .dataframe tbody tr th {\n",
       "        vertical-align: top;\n",
       "    }\n",
       "\n",
       "    .dataframe thead th {\n",
       "        text-align: right;\n",
       "    }\n",
       "</style>\n",
       "<table border=\"1\" class=\"dataframe\">\n",
       "  <thead>\n",
       "    <tr style=\"text-align: right;\">\n",
       "      <th>age_group</th>\n",
       "      <th>Adult</th>\n",
       "      <th>Senior</th>\n",
       "      <th>Young Adult</th>\n",
       "    </tr>\n",
       "    <tr>\n",
       "      <th>marital_status</th>\n",
       "      <th></th>\n",
       "      <th></th>\n",
       "      <th></th>\n",
       "    </tr>\n",
       "  </thead>\n",
       "  <tbody>\n",
       "    <tr>\n",
       "      <th>divorced/widowed</th>\n",
       "      <td>623313</td>\n",
       "      <td>2021958</td>\n",
       "      <td>0</td>\n",
       "    </tr>\n",
       "    <tr>\n",
       "      <th>living with parents and siblings</th>\n",
       "      <td>0</td>\n",
       "      <td>0</td>\n",
       "      <td>1481172</td>\n",
       "    </tr>\n",
       "    <tr>\n",
       "      <th>married</th>\n",
       "      <td>14140006</td>\n",
       "      <td>6173586</td>\n",
       "      <td>1430119</td>\n",
       "    </tr>\n",
       "    <tr>\n",
       "      <th>single</th>\n",
       "      <td>4141183</td>\n",
       "      <td>0</td>\n",
       "      <td>953227</td>\n",
       "    </tr>\n",
       "  </tbody>\n",
       "</table>\n",
       "</div>"
      ],
      "text/plain": [
       "age_group                            Adult   Senior  Young Adult\n",
       "marital_status                                                  \n",
       "divorced/widowed                    623313  2021958            0\n",
       "living with parents and siblings         0        0      1481172\n",
       "married                           14140006  6173586      1430119\n",
       "single                             4141183        0       953227"
      ]
     },
     "execution_count": 39,
     "metadata": {},
     "output_type": "execute_result"
    }
   ],
   "source": [
    "crosstab3"
   ]
  },
  {
   "cell_type": "code",
   "execution_count": 40,
   "id": "9892353e",
   "metadata": {},
   "outputs": [
    {
     "data": {
      "image/png": "[encoded data removed]",
      "text/plain": [
       "<Figure size 640x480 with 1 Axes>"
      ]
     },
     "metadata": {},
     "output_type": "display_data"
    }
   ],
   "source": [
    "#create a horizontal bar chart\n",
    "bar3 = crosstab3.plot.barh()"
   ]
  },
  {
   "cell_type": "code",
   "execution_count": 41,
   "id": "5a7d6e8c",
   "metadata": {},
   "outputs": [],
   "source": [
    "#saving bar chart to file\n",
    "bar3.figure.savefig(os.path.join(path, 'Analysis','Visualizations', 'barh_marital_age.png'))"
   ]
  },
  {
   "cell_type": "markdown",
   "id": "20d9dbfa",
   "metadata": {},
   "source": [
    "#### crossing gender and marital status"
   ]
  },
  {
   "cell_type": "code",
   "execution_count": 42,
   "id": "40d1c0ff",
   "metadata": {},
   "outputs": [],
   "source": [
    "#crossing gender and marital status\n",
    "crosstab5 = pd.crosstab(active['gender'], active['marital_status'], dropna = False)"
   ]
  },
  {
   "cell_type": "code",
   "execution_count": 43,
   "id": "af7af6f8",
   "metadata": {},
   "outputs": [
    {
     "data": {
      "text/html": [
       "<div>\n",
       "<style scoped>\n",
       "    .dataframe tbody tr th:only-of-type {\n",
       "        vertical-align: middle;\n",
       "    }\n",
       "\n",
       "    .dataframe tbody tr th {\n",
       "        vertical-align: top;\n",
       "    }\n",
       "\n",
       "    .dataframe thead th {\n",
       "        text-align: right;\n",
       "    }\n",
       "</style>\n",
       "<table border=\"1\" class=\"dataframe\">\n",
       "  <thead>\n",
       "    <tr style=\"text-align: right;\">\n",
       "      <th>marital_status</th>\n",
       "      <th>divorced/widowed</th>\n",
       "      <th>living with parents and siblings</th>\n",
       "      <th>married</th>\n",
       "      <th>single</th>\n",
       "    </tr>\n",
       "    <tr>\n",
       "      <th>gender</th>\n",
       "      <th></th>\n",
       "      <th></th>\n",
       "      <th></th>\n",
       "      <th></th>\n",
       "    </tr>\n",
       "  </thead>\n",
       "  <tbody>\n",
       "    <tr>\n",
       "      <th>Female</th>\n",
       "      <td>1337129</td>\n",
       "      <td>723576</td>\n",
       "      <td>10795965</td>\n",
       "      <td>2521154</td>\n",
       "    </tr>\n",
       "    <tr>\n",
       "      <th>Male</th>\n",
       "      <td>1308142</td>\n",
       "      <td>757596</td>\n",
       "      <td>10947746</td>\n",
       "      <td>2573256</td>\n",
       "    </tr>\n",
       "  </tbody>\n",
       "</table>\n",
       "</div>"
      ],
      "text/plain": [
       "marital_status  divorced/widowed  living with parents and siblings   married  \\\n",
       "gender                                                                         \n",
       "Female                   1337129                            723576  10795965   \n",
       "Male                     1308142                            757596  10947746   \n",
       "\n",
       "marital_status   single  \n",
       "gender                   \n",
       "Female          2521154  \n",
       "Male            2573256  "
      ]
     },
     "execution_count": 43,
     "metadata": {},
     "output_type": "execute_result"
    }
   ],
   "source": [
    "crosstab5"
   ]
  },
  {
   "cell_type": "code",
   "execution_count": 44,
   "id": "10e2ed5e",
   "metadata": {},
   "outputs": [
    {
     "data": {
      "image/png": "[encoded data removed]",
      "text/plain": [
       "<Figure size 640x480 with 1 Axes>"
      ]
     },
     "metadata": {},
     "output_type": "display_data"
    }
   ],
   "source": [
    "#create a horizontal bar chart\n",
    "bar4 = crosstab5.plot.barh()"
   ]
  },
  {
   "cell_type": "code",
   "execution_count": 45,
   "id": "6b077572",
   "metadata": {},
   "outputs": [],
   "source": [
    "#saving bar chart to file\n",
    "bar4.figure.savefig(os.path.join(path, 'Analysis','Visualizations', 'barh_gender_martial.png'))"
   ]
  },
  {
   "cell_type": "markdown",
   "id": "7d03754d",
   "metadata": {},
   "source": [
    "#### crossing gender and num of dependants"
   ]
  },
  {
   "cell_type": "code",
   "execution_count": 46,
   "id": "17faf64d",
   "metadata": {},
   "outputs": [],
   "source": [
    "#crossing gender and num of dependants\n",
    "crosstab6 = pd.crosstab(active['gender'], active['num_dpdnts'], dropna = False)"
   ]
  },
  {
   "cell_type": "code",
   "execution_count": 47,
   "id": "8ed4ff69",
   "metadata": {},
   "outputs": [
    {
     "data": {
      "text/html": [
       "<div>\n",
       "<style scoped>\n",
       "    .dataframe tbody tr th:only-of-type {\n",
       "        vertical-align: middle;\n",
       "    }\n",
       "\n",
       "    .dataframe tbody tr th {\n",
       "        vertical-align: top;\n",
       "    }\n",
       "\n",
       "    .dataframe thead th {\n",
       "        text-align: right;\n",
       "    }\n",
       "</style>\n",
       "<table border=\"1\" class=\"dataframe\">\n",
       "  <thead>\n",
       "    <tr style=\"text-align: right;\">\n",
       "      <th>num_dpdnts</th>\n",
       "      <th>0</th>\n",
       "      <th>1</th>\n",
       "      <th>2</th>\n",
       "      <th>3</th>\n",
       "    </tr>\n",
       "    <tr>\n",
       "      <th>gender</th>\n",
       "      <th></th>\n",
       "      <th></th>\n",
       "      <th></th>\n",
       "      <th></th>\n",
       "    </tr>\n",
       "  </thead>\n",
       "  <tbody>\n",
       "    <tr>\n",
       "      <th>Female</th>\n",
       "      <td>3858283</td>\n",
       "      <td>3813296</td>\n",
       "      <td>3830944</td>\n",
       "      <td>3875301</td>\n",
       "    </tr>\n",
       "    <tr>\n",
       "      <th>Male</th>\n",
       "      <td>3881398</td>\n",
       "      <td>3905810</td>\n",
       "      <td>3902317</td>\n",
       "      <td>3897215</td>\n",
       "    </tr>\n",
       "  </tbody>\n",
       "</table>\n",
       "</div>"
      ],
      "text/plain": [
       "num_dpdnts        0        1        2        3\n",
       "gender                                        \n",
       "Female      3858283  3813296  3830944  3875301\n",
       "Male        3881398  3905810  3902317  3897215"
      ]
     },
     "execution_count": 47,
     "metadata": {},
     "output_type": "execute_result"
    }
   ],
   "source": [
    "crosstab6"
   ]
  },
  {
   "cell_type": "code",
   "execution_count": 48,
   "id": "3001f645",
   "metadata": {},
   "outputs": [
    {
     "data": {
      "image/png": "[encoded data removed]",
      "text/plain": [
       "<Figure size 640x480 with 1 Axes>"
      ]
     },
     "metadata": {},
     "output_type": "display_data"
    }
   ],
   "source": [
    "#create a horizontal bar chart\n",
    "bar5 = crosstab6.plot.barh()"
   ]
  },
  {
   "cell_type": "code",
   "execution_count": 49,
   "id": "1de72e07",
   "metadata": {},
   "outputs": [],
   "source": [
    "#saving bar chart to file\n",
    "bar5.figure.savefig(os.path.join(path, 'Analysis','Visualizations', 'barh_gender_dependants.png'))"
   ]
  },
  {
   "cell_type": "markdown",
   "id": "4d7e081b",
   "metadata": {},
   "source": [
    "### import department data"
   ]
  },
  {
   "cell_type": "code",
   "execution_count": 50,
   "id": "891050fe",
   "metadata": {},
   "outputs": [],
   "source": [
    "#import department data\n",
    "df_dept = pd.read_csv(os.path.join(path, 'Data', 'Prepared Data', 'departments_wrangled.csv'), index_col = False)"
   ]
  },
  {
   "cell_type": "code",
   "execution_count": 51,
   "id": "a2d60e67",
   "metadata": {},
   "outputs": [
    {
     "data": {
      "text/html": [
       "<div>\n",
       "<style scoped>\n",
       "    .dataframe tbody tr th:only-of-type {\n",
       "        vertical-align: middle;\n",
       "    }\n",
       "\n",
       "    .dataframe tbody tr th {\n",
       "        vertical-align: top;\n",
       "    }\n",
       "\n",
       "    .dataframe thead th {\n",
       "        text-align: right;\n",
       "    }\n",
       "</style>\n",
       "<table border=\"1\" class=\"dataframe\">\n",
       "  <thead>\n",
       "    <tr style=\"text-align: right;\">\n",
       "      <th></th>\n",
       "      <th>Unnamed: 0</th>\n",
       "      <th>department</th>\n",
       "    </tr>\n",
       "  </thead>\n",
       "  <tbody>\n",
       "    <tr>\n",
       "      <th>16</th>\n",
       "      <td>17</td>\n",
       "      <td>household</td>\n",
       "    </tr>\n",
       "    <tr>\n",
       "      <th>17</th>\n",
       "      <td>18</td>\n",
       "      <td>babies</td>\n",
       "    </tr>\n",
       "    <tr>\n",
       "      <th>18</th>\n",
       "      <td>19</td>\n",
       "      <td>snacks</td>\n",
       "    </tr>\n",
       "    <tr>\n",
       "      <th>19</th>\n",
       "      <td>20</td>\n",
       "      <td>deli</td>\n",
       "    </tr>\n",
       "    <tr>\n",
       "      <th>20</th>\n",
       "      <td>21</td>\n",
       "      <td>missing</td>\n",
       "    </tr>\n",
       "  </tbody>\n",
       "</table>\n",
       "</div>"
      ],
      "text/plain": [
       "    Unnamed: 0 department\n",
       "16          17  household\n",
       "17          18     babies\n",
       "18          19     snacks\n",
       "19          20       deli\n",
       "20          21    missing"
      ]
     },
     "execution_count": 51,
     "metadata": {},
     "output_type": "execute_result"
    }
   ],
   "source": [
    "df_dept.tail()"
   ]
  },
  {
   "cell_type": "code",
   "execution_count": 52,
   "id": "63ee72de",
   "metadata": {},
   "outputs": [],
   "source": [
    "#rename column\n",
    "df_dept.rename(columns= {'Unnamed: 0' : 'department_id'}, inplace= True)"
   ]
  },
  {
   "cell_type": "code",
   "execution_count": 53,
   "id": "243683ce",
   "metadata": {},
   "outputs": [],
   "source": [
    "#making df_dept into data dictionary\n",
    "zip = zip(df_dept['department_id'], df_dept['department'])"
   ]
  },
  {
   "cell_type": "code",
   "execution_count": 54,
   "id": "b1b40d01",
   "metadata": {},
   "outputs": [],
   "source": [
    "data_dict= dict(zip)"
   ]
  },
  {
   "cell_type": "code",
   "execution_count": 55,
   "id": "5b92c3ab",
   "metadata": {},
   "outputs": [
    {
     "data": {
      "text/plain": [
       "{1: 'frozen',\n",
       " 2: 'other',\n",
       " 3: 'bakery',\n",
       " 4: 'produce',\n",
       " 5: 'alcohol',\n",
       " 6: 'international',\n",
       " 7: 'beverages',\n",
       " 8: 'pets',\n",
       " 9: 'dry goods pasta',\n",
       " 10: 'bulk',\n",
       " 11: 'personal care',\n",
       " 12: 'meat seafood',\n",
       " 13: 'pantry',\n",
       " 14: 'breakfast',\n",
       " 15: 'canned goods',\n",
       " 16: 'dairy eggs',\n",
       " 17: 'household',\n",
       " 18: 'babies',\n",
       " 19: 'snacks',\n",
       " 20: 'deli',\n",
       " 21: 'missing'}"
      ]
     },
     "execution_count": 55,
     "metadata": {},
     "output_type": "execute_result"
    }
   ],
   "source": [
    "data_dict"
   ]
  },
  {
   "cell_type": "markdown",
   "id": "8f64c88a",
   "metadata": {},
   "source": [
    "#### connecting department names to department ids"
   ]
  },
  {
   "cell_type": "code",
   "execution_count": 56,
   "id": "1834f07b",
   "metadata": {},
   "outputs": [
    {
     "name": "stderr",
     "output_type": "stream",
     "text": [
      "C:\\Users\\Josh Abrams\\AppData\\Local\\Temp\\ipykernel_3924\\1616572885.py:2: SettingWithCopyWarning: \n",
      "A value is trying to be set on a copy of a slice from a DataFrame.\n",
      "Try using .loc[row_indexer,col_indexer] = value instead\n",
      "\n",
      "See the caveats in the documentation: https://pandas.pydata.org/pandas-docs/stable/user_guide/indexing.html#returning-a-view-versus-a-copy\n",
      "  active['department']= active['department_id'].map(data_dict)\n"
     ]
    }
   ],
   "source": [
    "#connecting department names to department ids\n",
    "active['department']= active['department_id'].map(data_dict)"
   ]
  },
  {
   "cell_type": "code",
   "execution_count": 57,
   "id": "31c4ff5b",
   "metadata": {},
   "outputs": [
    {
     "data": {
      "text/html": [
       "<div>\n",
       "<style scoped>\n",
       "    .dataframe tbody tr th:only-of-type {\n",
       "        vertical-align: middle;\n",
       "    }\n",
       "\n",
       "    .dataframe tbody tr th {\n",
       "        vertical-align: top;\n",
       "    }\n",
       "\n",
       "    .dataframe thead th {\n",
       "        text-align: right;\n",
       "    }\n",
       "</style>\n",
       "<table border=\"1\" class=\"dataframe\">\n",
       "  <thead>\n",
       "    <tr style=\"text-align: right;\">\n",
       "      <th></th>\n",
       "      <th>Unnamed: 0_x</th>\n",
       "      <th>order_id</th>\n",
       "      <th>customer_id</th>\n",
       "      <th>eval_set</th>\n",
       "      <th>order_number</th>\n",
       "      <th>orders_day_of_week</th>\n",
       "      <th>order_hour_of_day</th>\n",
       "      <th>days_since_prior_order</th>\n",
       "      <th>product_id</th>\n",
       "      <th>add_to_cart_order</th>\n",
       "      <th>...</th>\n",
       "      <th>date_joined</th>\n",
       "      <th>num_dpdnts</th>\n",
       "      <th>marital_status</th>\n",
       "      <th>income</th>\n",
       "      <th>_merge</th>\n",
       "      <th>region</th>\n",
       "      <th>activity</th>\n",
       "      <th>age_group</th>\n",
       "      <th>income_class</th>\n",
       "      <th>department</th>\n",
       "    </tr>\n",
       "  </thead>\n",
       "  <tbody>\n",
       "    <tr>\n",
       "      <th>0</th>\n",
       "      <td>0</td>\n",
       "      <td>2539329</td>\n",
       "      <td>1</td>\n",
       "      <td>prior</td>\n",
       "      <td>1</td>\n",
       "      <td>2</td>\n",
       "      <td>8</td>\n",
       "      <td>NaN</td>\n",
       "      <td>196</td>\n",
       "      <td>1</td>\n",
       "      <td>...</td>\n",
       "      <td>2/17/2019</td>\n",
       "      <td>3</td>\n",
       "      <td>married</td>\n",
       "      <td>40423</td>\n",
       "      <td>both</td>\n",
       "      <td>South</td>\n",
       "      <td>Active</td>\n",
       "      <td>Adult</td>\n",
       "      <td>Lower Class</td>\n",
       "      <td>beverages</td>\n",
       "    </tr>\n",
       "    <tr>\n",
       "      <th>1</th>\n",
       "      <td>1</td>\n",
       "      <td>2398795</td>\n",
       "      <td>1</td>\n",
       "      <td>prior</td>\n",
       "      <td>2</td>\n",
       "      <td>3</td>\n",
       "      <td>7</td>\n",
       "      <td>15.0</td>\n",
       "      <td>196</td>\n",
       "      <td>1</td>\n",
       "      <td>...</td>\n",
       "      <td>2/17/2019</td>\n",
       "      <td>3</td>\n",
       "      <td>married</td>\n",
       "      <td>40423</td>\n",
       "      <td>both</td>\n",
       "      <td>South</td>\n",
       "      <td>Active</td>\n",
       "      <td>Adult</td>\n",
       "      <td>Lower Class</td>\n",
       "      <td>beverages</td>\n",
       "    </tr>\n",
       "    <tr>\n",
       "      <th>2</th>\n",
       "      <td>2</td>\n",
       "      <td>473747</td>\n",
       "      <td>1</td>\n",
       "      <td>prior</td>\n",
       "      <td>3</td>\n",
       "      <td>3</td>\n",
       "      <td>12</td>\n",
       "      <td>21.0</td>\n",
       "      <td>196</td>\n",
       "      <td>1</td>\n",
       "      <td>...</td>\n",
       "      <td>2/17/2019</td>\n",
       "      <td>3</td>\n",
       "      <td>married</td>\n",
       "      <td>40423</td>\n",
       "      <td>both</td>\n",
       "      <td>South</td>\n",
       "      <td>Active</td>\n",
       "      <td>Adult</td>\n",
       "      <td>Lower Class</td>\n",
       "      <td>beverages</td>\n",
       "    </tr>\n",
       "    <tr>\n",
       "      <th>3</th>\n",
       "      <td>3</td>\n",
       "      <td>2254736</td>\n",
       "      <td>1</td>\n",
       "      <td>prior</td>\n",
       "      <td>4</td>\n",
       "      <td>4</td>\n",
       "      <td>7</td>\n",
       "      <td>29.0</td>\n",
       "      <td>196</td>\n",
       "      <td>1</td>\n",
       "      <td>...</td>\n",
       "      <td>2/17/2019</td>\n",
       "      <td>3</td>\n",
       "      <td>married</td>\n",
       "      <td>40423</td>\n",
       "      <td>both</td>\n",
       "      <td>South</td>\n",
       "      <td>Active</td>\n",
       "      <td>Adult</td>\n",
       "      <td>Lower Class</td>\n",
       "      <td>beverages</td>\n",
       "    </tr>\n",
       "    <tr>\n",
       "      <th>4</th>\n",
       "      <td>4</td>\n",
       "      <td>431534</td>\n",
       "      <td>1</td>\n",
       "      <td>prior</td>\n",
       "      <td>5</td>\n",
       "      <td>4</td>\n",
       "      <td>15</td>\n",
       "      <td>28.0</td>\n",
       "      <td>196</td>\n",
       "      <td>1</td>\n",
       "      <td>...</td>\n",
       "      <td>2/17/2019</td>\n",
       "      <td>3</td>\n",
       "      <td>married</td>\n",
       "      <td>40423</td>\n",
       "      <td>both</td>\n",
       "      <td>South</td>\n",
       "      <td>Active</td>\n",
       "      <td>Adult</td>\n",
       "      <td>Lower Class</td>\n",
       "      <td>beverages</td>\n",
       "    </tr>\n",
       "  </tbody>\n",
       "</table>\n",
       "<p>5 rows × 39 columns</p>\n",
       "</div>"
      ],
      "text/plain": [
       "   Unnamed: 0_x  order_id  customer_id eval_set  order_number  \\\n",
       "0             0   2539329            1    prior             1   \n",
       "1             1   2398795            1    prior             2   \n",
       "2             2    473747            1    prior             3   \n",
       "3             3   2254736            1    prior             4   \n",
       "4             4    431534            1    prior             5   \n",
       "\n",
       "   orders_day_of_week  order_hour_of_day  days_since_prior_order  product_id  \\\n",
       "0                   2                  8                     NaN         196   \n",
       "1                   3                  7                    15.0         196   \n",
       "2                   3                 12                    21.0         196   \n",
       "3                   4                  7                    29.0         196   \n",
       "4                   4                 15                    28.0         196   \n",
       "\n",
       "   add_to_cart_order  ...  date_joined  num_dpdnts marital_status  income  \\\n",
       "0                  1  ...    2/17/2019           3        married   40423   \n",
       "1                  1  ...    2/17/2019           3        married   40423   \n",
       "2                  1  ...    2/17/2019           3        married   40423   \n",
       "3                  1  ...    2/17/2019           3        married   40423   \n",
       "4                  1  ...    2/17/2019           3        married   40423   \n",
       "\n",
       "   _merge  region activity age_group income_class department  \n",
       "0    both   South   Active     Adult  Lower Class  beverages  \n",
       "1    both   South   Active     Adult  Lower Class  beverages  \n",
       "2    both   South   Active     Adult  Lower Class  beverages  \n",
       "3    both   South   Active     Adult  Lower Class  beverages  \n",
       "4    both   South   Active     Adult  Lower Class  beverages  \n",
       "\n",
       "[5 rows x 39 columns]"
      ]
     },
     "execution_count": 57,
     "metadata": {},
     "output_type": "execute_result"
    }
   ],
   "source": [
    "active.head()"
   ]
  },
  {
   "cell_type": "code",
   "execution_count": 58,
   "id": "1e013d13",
   "metadata": {},
   "outputs": [
    {
     "data": {
      "text/plain": [
       "produce            9079273\n",
       "dairy eggs         5177182\n",
       "snacks             2766406\n",
       "beverages          2571901\n",
       "frozen             2121731\n",
       "pantry             1782705\n",
       "bakery             1120828\n",
       "canned goods       1012074\n",
       "deli               1003834\n",
       "dry goods pasta     822136\n",
       "household           699857\n",
       "meat seafood        674781\n",
       "breakfast           670850\n",
       "personal care       424306\n",
       "babies              410392\n",
       "international       255991\n",
       "alcohol             144627\n",
       "pets                 93060\n",
       "missing              64768\n",
       "other                34411\n",
       "bulk                 33451\n",
       "Name: department, dtype: int64"
      ]
     },
     "execution_count": 58,
     "metadata": {},
     "output_type": "execute_result"
    }
   ],
   "source": [
    "#looking at each departments average spending by customer\n",
    "active['department'].value_counts(dropna = False)"
   ]
  },
  {
   "cell_type": "markdown",
   "id": "db8ac91e",
   "metadata": {},
   "source": [
    "#### Based on the average cost spent in each depatment, profiles will be based on alcohol, pets, and babies"
   ]
  },
  {
   "cell_type": "code",
   "execution_count": 59,
   "id": "01c376ee",
   "metadata": {},
   "outputs": [],
   "source": [
    "#creating a flag for frozen food\n",
    "result = []\n",
    "\n",
    "for value in active['department']:\n",
    "    if value in ('frozen'):\n",
    "        result.append('yes')\n",
    "    elif value in ('alcohol', 'babies', 'bakery', 'beverages', 'breakfast', 'bulk', 'canned goods', 'dairy eggs', 'deli', 'dry goods pasta', 'household', 'international', 'meat seafood', 'missing', 'other', 'pantry', 'personal care', 'pets', 'produce', 'snacks'):\n",
    "        result.append('no')"
   ]
  },
  {
   "cell_type": "code",
   "execution_count": 60,
   "id": "e4506b2f",
   "metadata": {},
   "outputs": [
    {
     "name": "stderr",
     "output_type": "stream",
     "text": [
      "C:\\Users\\Josh Abrams\\AppData\\Local\\Temp\\ipykernel_3924\\4242491956.py:1: SettingWithCopyWarning: \n",
      "A value is trying to be set on a copy of a slice from a DataFrame.\n",
      "Try using .loc[row_indexer,col_indexer] = value instead\n",
      "\n",
      "See the caveats in the documentation: https://pandas.pydata.org/pandas-docs/stable/user_guide/indexing.html#returning-a-view-versus-a-copy\n",
      "  active['frozen_food_status'] = result\n"
     ]
    }
   ],
   "source": [
    "active['frozen_food_status'] = result"
   ]
  },
  {
   "cell_type": "code",
   "execution_count": 61,
   "id": "6c5300a2",
   "metadata": {},
   "outputs": [
    {
     "data": {
      "text/plain": [
       "no     28842833\n",
       "yes     2121731\n",
       "Name: frozen_food_status, dtype: int64"
      ]
     },
     "execution_count": 61,
     "metadata": {},
     "output_type": "execute_result"
    }
   ],
   "source": [
    "active['frozen_food_status'].value_counts(dropna = False)"
   ]
  },
  {
   "cell_type": "code",
   "execution_count": 62,
   "id": "6aff1014",
   "metadata": {},
   "outputs": [
    {
     "data": {
      "image/png": "[encoded data removed]",
      "text/plain": [
       "<Figure size 640x480 with 1 Axes>"
      ]
     },
     "metadata": {},
     "output_type": "display_data"
    }
   ],
   "source": [
    "#creating a pie chart for frozen foods\n",
    "frozen_food_pie = active['frozen_food_status'].value_counts().plot.pie(autopct=('%1.f%%'), colors = ['orange', 'yellow'])"
   ]
  },
  {
   "cell_type": "code",
   "execution_count": 63,
   "id": "0130deb2",
   "metadata": {},
   "outputs": [],
   "source": [
    "#saving pie chart\n",
    "frozen_food_pie.figure.savefig(os.path.join(path, 'Analysis','Visualizations', 'frozen_food_pie.png'))"
   ]
  },
  {
   "cell_type": "code",
   "execution_count": 64,
   "id": "30688af8",
   "metadata": {},
   "outputs": [],
   "source": [
    "#creating a flag for dairy eggs\n",
    "result = []\n",
    "\n",
    "for value in active['department']:\n",
    "    if value in ('dairy eggs'):\n",
    "        result.append('yes')\n",
    "    elif value in ('alcohol', 'babies', 'bakery', 'beverages', 'breakfast', 'bulk', 'canned goods', 'deli', 'dry goods pasta', 'frozen', 'household', 'international', 'meat seafood', 'missing', 'other', 'pantry', 'pets', 'personal care', 'produce', 'snacks'):\n",
    "        result.append('no')"
   ]
  },
  {
   "cell_type": "code",
   "execution_count": 65,
   "id": "63424e8e",
   "metadata": {},
   "outputs": [
    {
     "name": "stderr",
     "output_type": "stream",
     "text": [
      "C:\\Users\\Josh Abrams\\AppData\\Local\\Temp\\ipykernel_3924\\1962554550.py:1: SettingWithCopyWarning: \n",
      "A value is trying to be set on a copy of a slice from a DataFrame.\n",
      "Try using .loc[row_indexer,col_indexer] = value instead\n",
      "\n",
      "See the caveats in the documentation: https://pandas.pydata.org/pandas-docs/stable/user_guide/indexing.html#returning-a-view-versus-a-copy\n",
      "  active['dairy_eggs_status'] = result\n"
     ]
    }
   ],
   "source": [
    "active['dairy_eggs_status'] = result"
   ]
  },
  {
   "cell_type": "code",
   "execution_count": 66,
   "id": "c598424f",
   "metadata": {},
   "outputs": [
    {
     "data": {
      "text/plain": [
       "no     25787382\n",
       "yes     5177182\n",
       "Name: dairy_eggs_status, dtype: int64"
      ]
     },
     "execution_count": 66,
     "metadata": {},
     "output_type": "execute_result"
    }
   ],
   "source": [
    "active['dairy_eggs_status'].value_counts(dropna = False)"
   ]
  },
  {
   "cell_type": "code",
   "execution_count": 67,
   "id": "e78c52d0",
   "metadata": {},
   "outputs": [
    {
     "data": {
      "image/png": "[encoded data removed]",
      "text/plain": [
       "<Figure size 640x480 with 1 Axes>"
      ]
     },
     "metadata": {},
     "output_type": "display_data"
    }
   ],
   "source": [
    "dairy_eggs_pie = active['dairy_eggs_status'].value_counts().plot.pie(autopct=('%1.f%%'), colors = ['lightgreen', 'orange'])"
   ]
  },
  {
   "cell_type": "code",
   "execution_count": 68,
   "id": "e67cdc52",
   "metadata": {},
   "outputs": [],
   "source": [
    "#saving pie chart to file\n",
    "dairy_eggs_pie.figure.savefig(os.path.join(path, 'Analysis','Visualizations', 'dairy_eggs_pie.png'))"
   ]
  },
  {
   "cell_type": "code",
   "execution_count": 69,
   "id": "09d52951",
   "metadata": {},
   "outputs": [],
   "source": [
    "#creating a flag for produce\n",
    "result = []\n",
    "\n",
    "for value in active['department']:\n",
    "    if value in ('produce'):\n",
    "        result.append('yes')\n",
    "    elif value in ('alcohol', 'babies', 'bakery', 'beverages', 'breakfast', 'bulk', 'canned goods', 'dairy eggs', 'deli', 'dry goods pasta', 'frozen', 'household', 'international', 'meat seafood', 'missing', 'other', 'pantry', 'personal care', 'pets', 'snacks'):\n",
    "        result.append('no')"
   ]
  },
  {
   "cell_type": "code",
   "execution_count": 70,
   "id": "bd6baa5f",
   "metadata": {},
   "outputs": [
    {
     "name": "stderr",
     "output_type": "stream",
     "text": [
      "C:\\Users\\Josh Abrams\\AppData\\Local\\Temp\\ipykernel_3924\\267684031.py:1: SettingWithCopyWarning: \n",
      "A value is trying to be set on a copy of a slice from a DataFrame.\n",
      "Try using .loc[row_indexer,col_indexer] = value instead\n",
      "\n",
      "See the caveats in the documentation: https://pandas.pydata.org/pandas-docs/stable/user_guide/indexing.html#returning-a-view-versus-a-copy\n",
      "  active['produce_status'] = result\n"
     ]
    }
   ],
   "source": [
    "active['produce_status'] = result"
   ]
  },
  {
   "cell_type": "code",
   "execution_count": 71,
   "id": "7297e22a",
   "metadata": {},
   "outputs": [
    {
     "data": {
      "text/plain": [
       "no     21885291\n",
       "yes     9079273\n",
       "Name: produce_status, dtype: int64"
      ]
     },
     "execution_count": 71,
     "metadata": {},
     "output_type": "execute_result"
    }
   ],
   "source": [
    "active['produce_status'].value_counts(dropna = False)"
   ]
  },
  {
   "cell_type": "code",
   "execution_count": 72,
   "id": "97ee3fce",
   "metadata": {},
   "outputs": [
    {
     "data": {
      "image/png": "[encoded data removed]",
      "text/plain": [
       "<Figure size 640x480 with 1 Axes>"
      ]
     },
     "metadata": {},
     "output_type": "display_data"
    }
   ],
   "source": [
    "produce_pie = active['produce_status'].value_counts().plot.pie(autopct=('%1.f%%'))"
   ]
  },
  {
   "cell_type": "code",
   "execution_count": 73,
   "id": "e0e00a7c",
   "metadata": {},
   "outputs": [],
   "source": [
    "#saving pie chart to file\n",
    "produce_pie.figure.savefig(os.path.join(path, 'Analysis','Visualizations', 'produce_pie.png'))"
   ]
  },
  {
   "cell_type": "code",
   "execution_count": 74,
   "id": "d8691f4f",
   "metadata": {},
   "outputs": [],
   "source": [
    "pd.options.display.max_rows = None"
   ]
  },
  {
   "cell_type": "code",
   "execution_count": 75,
   "id": "7ccbde28",
   "metadata": {},
   "outputs": [
    {
     "data": {
      "text/html": [
       "<div>\n",
       "<style scoped>\n",
       "    .dataframe tbody tr th:only-of-type {\n",
       "        vertical-align: middle;\n",
       "    }\n",
       "\n",
       "    .dataframe tbody tr th {\n",
       "        vertical-align: top;\n",
       "    }\n",
       "\n",
       "    .dataframe thead th {\n",
       "        text-align: right;\n",
       "    }\n",
       "</style>\n",
       "<table border=\"1\" class=\"dataframe\">\n",
       "  <thead>\n",
       "    <tr style=\"text-align: right;\">\n",
       "      <th></th>\n",
       "      <th>Unnamed: 0_x</th>\n",
       "      <th>order_id</th>\n",
       "      <th>customer_id</th>\n",
       "      <th>eval_set</th>\n",
       "      <th>order_number</th>\n",
       "      <th>orders_day_of_week</th>\n",
       "      <th>order_hour_of_day</th>\n",
       "      <th>days_since_prior_order</th>\n",
       "      <th>product_id</th>\n",
       "      <th>add_to_cart_order</th>\n",
       "      <th>...</th>\n",
       "      <th>income</th>\n",
       "      <th>_merge</th>\n",
       "      <th>region</th>\n",
       "      <th>activity</th>\n",
       "      <th>age_group</th>\n",
       "      <th>income_class</th>\n",
       "      <th>department</th>\n",
       "      <th>frozen_food_status</th>\n",
       "      <th>dairy_eggs_status</th>\n",
       "      <th>produce_status</th>\n",
       "    </tr>\n",
       "  </thead>\n",
       "  <tbody>\n",
       "    <tr>\n",
       "      <th>0</th>\n",
       "      <td>0</td>\n",
       "      <td>2539329</td>\n",
       "      <td>1</td>\n",
       "      <td>prior</td>\n",
       "      <td>1</td>\n",
       "      <td>2</td>\n",
       "      <td>8</td>\n",
       "      <td>NaN</td>\n",
       "      <td>196</td>\n",
       "      <td>1</td>\n",
       "      <td>...</td>\n",
       "      <td>40423</td>\n",
       "      <td>both</td>\n",
       "      <td>South</td>\n",
       "      <td>Active</td>\n",
       "      <td>Adult</td>\n",
       "      <td>Lower Class</td>\n",
       "      <td>beverages</td>\n",
       "      <td>no</td>\n",
       "      <td>no</td>\n",
       "      <td>no</td>\n",
       "    </tr>\n",
       "    <tr>\n",
       "      <th>1</th>\n",
       "      <td>1</td>\n",
       "      <td>2398795</td>\n",
       "      <td>1</td>\n",
       "      <td>prior</td>\n",
       "      <td>2</td>\n",
       "      <td>3</td>\n",
       "      <td>7</td>\n",
       "      <td>15.0</td>\n",
       "      <td>196</td>\n",
       "      <td>1</td>\n",
       "      <td>...</td>\n",
       "      <td>40423</td>\n",
       "      <td>both</td>\n",
       "      <td>South</td>\n",
       "      <td>Active</td>\n",
       "      <td>Adult</td>\n",
       "      <td>Lower Class</td>\n",
       "      <td>beverages</td>\n",
       "      <td>no</td>\n",
       "      <td>no</td>\n",
       "      <td>no</td>\n",
       "    </tr>\n",
       "    <tr>\n",
       "      <th>2</th>\n",
       "      <td>2</td>\n",
       "      <td>473747</td>\n",
       "      <td>1</td>\n",
       "      <td>prior</td>\n",
       "      <td>3</td>\n",
       "      <td>3</td>\n",
       "      <td>12</td>\n",
       "      <td>21.0</td>\n",
       "      <td>196</td>\n",
       "      <td>1</td>\n",
       "      <td>...</td>\n",
       "      <td>40423</td>\n",
       "      <td>both</td>\n",
       "      <td>South</td>\n",
       "      <td>Active</td>\n",
       "      <td>Adult</td>\n",
       "      <td>Lower Class</td>\n",
       "      <td>beverages</td>\n",
       "      <td>no</td>\n",
       "      <td>no</td>\n",
       "      <td>no</td>\n",
       "    </tr>\n",
       "    <tr>\n",
       "      <th>3</th>\n",
       "      <td>3</td>\n",
       "      <td>2254736</td>\n",
       "      <td>1</td>\n",
       "      <td>prior</td>\n",
       "      <td>4</td>\n",
       "      <td>4</td>\n",
       "      <td>7</td>\n",
       "      <td>29.0</td>\n",
       "      <td>196</td>\n",
       "      <td>1</td>\n",
       "      <td>...</td>\n",
       "      <td>40423</td>\n",
       "      <td>both</td>\n",
       "      <td>South</td>\n",
       "      <td>Active</td>\n",
       "      <td>Adult</td>\n",
       "      <td>Lower Class</td>\n",
       "      <td>beverages</td>\n",
       "      <td>no</td>\n",
       "      <td>no</td>\n",
       "      <td>no</td>\n",
       "    </tr>\n",
       "    <tr>\n",
       "      <th>4</th>\n",
       "      <td>4</td>\n",
       "      <td>431534</td>\n",
       "      <td>1</td>\n",
       "      <td>prior</td>\n",
       "      <td>5</td>\n",
       "      <td>4</td>\n",
       "      <td>15</td>\n",
       "      <td>28.0</td>\n",
       "      <td>196</td>\n",
       "      <td>1</td>\n",
       "      <td>...</td>\n",
       "      <td>40423</td>\n",
       "      <td>both</td>\n",
       "      <td>South</td>\n",
       "      <td>Active</td>\n",
       "      <td>Adult</td>\n",
       "      <td>Lower Class</td>\n",
       "      <td>beverages</td>\n",
       "      <td>no</td>\n",
       "      <td>no</td>\n",
       "      <td>no</td>\n",
       "    </tr>\n",
       "  </tbody>\n",
       "</table>\n",
       "<p>5 rows × 42 columns</p>\n",
       "</div>"
      ],
      "text/plain": [
       "   Unnamed: 0_x  order_id  customer_id eval_set  order_number  \\\n",
       "0             0   2539329            1    prior             1   \n",
       "1             1   2398795            1    prior             2   \n",
       "2             2    473747            1    prior             3   \n",
       "3             3   2254736            1    prior             4   \n",
       "4             4    431534            1    prior             5   \n",
       "\n",
       "   orders_day_of_week  order_hour_of_day  days_since_prior_order  product_id  \\\n",
       "0                   2                  8                     NaN         196   \n",
       "1                   3                  7                    15.0         196   \n",
       "2                   3                 12                    21.0         196   \n",
       "3                   4                  7                    29.0         196   \n",
       "4                   4                 15                    28.0         196   \n",
       "\n",
       "   add_to_cart_order  ...  income  _merge region  activity  age_group  \\\n",
       "0                  1  ...   40423    both  South    Active      Adult   \n",
       "1                  1  ...   40423    both  South    Active      Adult   \n",
       "2                  1  ...   40423    both  South    Active      Adult   \n",
       "3                  1  ...   40423    both  South    Active      Adult   \n",
       "4                  1  ...   40423    both  South    Active      Adult   \n",
       "\n",
       "   income_class department frozen_food_status dairy_eggs_status produce_status  \n",
       "0   Lower Class  beverages                 no                no             no  \n",
       "1   Lower Class  beverages                 no                no             no  \n",
       "2   Lower Class  beverages                 no                no             no  \n",
       "3   Lower Class  beverages                 no                no             no  \n",
       "4   Lower Class  beverages                 no                no             no  \n",
       "\n",
       "[5 rows x 42 columns]"
      ]
     },
     "execution_count": 75,
     "metadata": {},
     "output_type": "execute_result"
    }
   ],
   "source": [
    "active.head()"
   ]
  },
  {
   "cell_type": "code",
   "execution_count": 76,
   "id": "4a29beca",
   "metadata": {},
   "outputs": [
    {
     "data": {
      "text/html": [
       "<div>\n",
       "<style scoped>\n",
       "    .dataframe tbody tr th:only-of-type {\n",
       "        vertical-align: middle;\n",
       "    }\n",
       "\n",
       "    .dataframe tbody tr th {\n",
       "        vertical-align: top;\n",
       "    }\n",
       "\n",
       "    .dataframe thead tr th {\n",
       "        text-align: left;\n",
       "    }\n",
       "\n",
       "    .dataframe thead tr:last-of-type th {\n",
       "        text-align: right;\n",
       "    }\n",
       "</style>\n",
       "<table border=\"1\" class=\"dataframe\">\n",
       "  <thead>\n",
       "    <tr>\n",
       "      <th></th>\n",
       "      <th colspan=\"3\" halign=\"left\">mean_price</th>\n",
       "    </tr>\n",
       "    <tr>\n",
       "      <th></th>\n",
       "      <th>mean</th>\n",
       "      <th>min</th>\n",
       "      <th>max</th>\n",
       "    </tr>\n",
       "    <tr>\n",
       "      <th>frozen_food_status</th>\n",
       "      <th></th>\n",
       "      <th></th>\n",
       "      <th></th>\n",
       "    </tr>\n",
       "  </thead>\n",
       "  <tbody>\n",
       "    <tr>\n",
       "      <th>no</th>\n",
       "      <td>11.895553</td>\n",
       "      <td>1.000000</td>\n",
       "      <td>15006.94</td>\n",
       "    </tr>\n",
       "    <tr>\n",
       "      <th>yes</th>\n",
       "      <td>12.449657</td>\n",
       "      <td>1.845455</td>\n",
       "      <td>15006.94</td>\n",
       "    </tr>\n",
       "  </tbody>\n",
       "</table>\n",
       "</div>"
      ],
      "text/plain": [
       "                   mean_price                    \n",
       "                         mean       min       max\n",
       "frozen_food_status                               \n",
       "no                  11.895553  1.000000  15006.94\n",
       "yes                 12.449657  1.845455  15006.94"
      ]
     },
     "execution_count": 76,
     "metadata": {},
     "output_type": "execute_result"
    }
   ],
   "source": [
    "#looking at frozen status statistics\n",
    "active.groupby('frozen_food_status').agg({'mean_price': ['mean', 'min', 'max']})"
   ]
  },
  {
   "cell_type": "code",
   "execution_count": 77,
   "id": "dee1f734",
   "metadata": {},
   "outputs": [
    {
     "data": {
      "text/html": [
       "<div>\n",
       "<style scoped>\n",
       "    .dataframe tbody tr th:only-of-type {\n",
       "        vertical-align: middle;\n",
       "    }\n",
       "\n",
       "    .dataframe tbody tr th {\n",
       "        vertical-align: top;\n",
       "    }\n",
       "\n",
       "    .dataframe thead tr th {\n",
       "        text-align: left;\n",
       "    }\n",
       "\n",
       "    .dataframe thead tr:last-of-type th {\n",
       "        text-align: right;\n",
       "    }\n",
       "</style>\n",
       "<table border=\"1\" class=\"dataframe\">\n",
       "  <thead>\n",
       "    <tr>\n",
       "      <th></th>\n",
       "      <th colspan=\"3\" halign=\"left\">median_days_since_previous_order</th>\n",
       "    </tr>\n",
       "    <tr>\n",
       "      <th></th>\n",
       "      <th>mean</th>\n",
       "      <th>min</th>\n",
       "      <th>max</th>\n",
       "    </tr>\n",
       "    <tr>\n",
       "      <th>frozen_food_status</th>\n",
       "      <th></th>\n",
       "      <th></th>\n",
       "      <th></th>\n",
       "    </tr>\n",
       "  </thead>\n",
       "  <tbody>\n",
       "    <tr>\n",
       "      <th>no</th>\n",
       "      <td>9.912158</td>\n",
       "      <td>0.0</td>\n",
       "      <td>30.0</td>\n",
       "    </tr>\n",
       "    <tr>\n",
       "      <th>yes</th>\n",
       "      <td>10.568624</td>\n",
       "      <td>0.0</td>\n",
       "      <td>30.0</td>\n",
       "    </tr>\n",
       "  </tbody>\n",
       "</table>\n",
       "</div>"
      ],
      "text/plain": [
       "                   median_days_since_previous_order           \n",
       "                                               mean  min   max\n",
       "frozen_food_status                                            \n",
       "no                                         9.912158  0.0  30.0\n",
       "yes                                       10.568624  0.0  30.0"
      ]
     },
     "execution_count": 77,
     "metadata": {},
     "output_type": "execute_result"
    }
   ],
   "source": [
    "#looking at frozen food status statistics\n",
    "active.groupby('frozen_food_status').agg({'median_days_since_previous_order': ['mean', 'min', 'max']})"
   ]
  },
  {
   "cell_type": "code",
   "execution_count": 78,
   "id": "9d8f0a18",
   "metadata": {},
   "outputs": [
    {
     "data": {
      "text/html": [
       "<div>\n",
       "<style scoped>\n",
       "    .dataframe tbody tr th:only-of-type {\n",
       "        vertical-align: middle;\n",
       "    }\n",
       "\n",
       "    .dataframe tbody tr th {\n",
       "        vertical-align: top;\n",
       "    }\n",
       "\n",
       "    .dataframe thead tr th {\n",
       "        text-align: left;\n",
       "    }\n",
       "\n",
       "    .dataframe thead tr:last-of-type th {\n",
       "        text-align: right;\n",
       "    }\n",
       "</style>\n",
       "<table border=\"1\" class=\"dataframe\">\n",
       "  <thead>\n",
       "    <tr>\n",
       "      <th></th>\n",
       "      <th colspan=\"3\" halign=\"left\">mean_price</th>\n",
       "    </tr>\n",
       "    <tr>\n",
       "      <th></th>\n",
       "      <th>mean</th>\n",
       "      <th>min</th>\n",
       "      <th>max</th>\n",
       "    </tr>\n",
       "    <tr>\n",
       "      <th>produce_status</th>\n",
       "      <th></th>\n",
       "      <th></th>\n",
       "      <th></th>\n",
       "    </tr>\n",
       "  </thead>\n",
       "  <tbody>\n",
       "    <tr>\n",
       "      <th>no</th>\n",
       "      <td>12.588874</td>\n",
       "      <td>1.0</td>\n",
       "      <td>15006.940000</td>\n",
       "    </tr>\n",
       "    <tr>\n",
       "      <th>yes</th>\n",
       "      <td>10.353815</td>\n",
       "      <td>1.3</td>\n",
       "      <td>14042.512281</td>\n",
       "    </tr>\n",
       "  </tbody>\n",
       "</table>\n",
       "</div>"
      ],
      "text/plain": [
       "               mean_price                   \n",
       "                     mean  min           max\n",
       "produce_status                              \n",
       "no              12.588874  1.0  15006.940000\n",
       "yes             10.353815  1.3  14042.512281"
      ]
     },
     "execution_count": 78,
     "metadata": {},
     "output_type": "execute_result"
    }
   ],
   "source": [
    "#looking at produce status statistics\n",
    "active.groupby('produce_status').agg({'mean_price': ['mean', 'min', 'max']})"
   ]
  },
  {
   "cell_type": "code",
   "execution_count": 79,
   "id": "43396bbd",
   "metadata": {},
   "outputs": [
    {
     "data": {
      "text/html": [
       "<div>\n",
       "<style scoped>\n",
       "    .dataframe tbody tr th:only-of-type {\n",
       "        vertical-align: middle;\n",
       "    }\n",
       "\n",
       "    .dataframe tbody tr th {\n",
       "        vertical-align: top;\n",
       "    }\n",
       "\n",
       "    .dataframe thead tr th {\n",
       "        text-align: left;\n",
       "    }\n",
       "\n",
       "    .dataframe thead tr:last-of-type th {\n",
       "        text-align: right;\n",
       "    }\n",
       "</style>\n",
       "<table border=\"1\" class=\"dataframe\">\n",
       "  <thead>\n",
       "    <tr>\n",
       "      <th></th>\n",
       "      <th colspan=\"3\" halign=\"left\">median_days_since_previous_order</th>\n",
       "    </tr>\n",
       "    <tr>\n",
       "      <th></th>\n",
       "      <th>mean</th>\n",
       "      <th>min</th>\n",
       "      <th>max</th>\n",
       "    </tr>\n",
       "    <tr>\n",
       "      <th>produce_status</th>\n",
       "      <th></th>\n",
       "      <th></th>\n",
       "      <th></th>\n",
       "    </tr>\n",
       "  </thead>\n",
       "  <tbody>\n",
       "    <tr>\n",
       "      <th>no</th>\n",
       "      <td>10.060508</td>\n",
       "      <td>0.0</td>\n",
       "      <td>30.0</td>\n",
       "    </tr>\n",
       "    <tr>\n",
       "      <th>yes</th>\n",
       "      <td>9.707974</td>\n",
       "      <td>0.0</td>\n",
       "      <td>30.0</td>\n",
       "    </tr>\n",
       "  </tbody>\n",
       "</table>\n",
       "</div>"
      ],
      "text/plain": [
       "               median_days_since_previous_order           \n",
       "                                           mean  min   max\n",
       "produce_status                                            \n",
       "no                                    10.060508  0.0  30.0\n",
       "yes                                    9.707974  0.0  30.0"
      ]
     },
     "execution_count": 79,
     "metadata": {},
     "output_type": "execute_result"
    }
   ],
   "source": [
    "#looking at produce status statistics\n",
    "active.groupby('produce_status').agg({'median_days_since_previous_order': ['mean', 'min', 'max']})"
   ]
  },
  {
   "cell_type": "code",
   "execution_count": 80,
   "id": "27ffca99",
   "metadata": {},
   "outputs": [
    {
     "data": {
      "text/html": [
       "<div>\n",
       "<style scoped>\n",
       "    .dataframe tbody tr th:only-of-type {\n",
       "        vertical-align: middle;\n",
       "    }\n",
       "\n",
       "    .dataframe tbody tr th {\n",
       "        vertical-align: top;\n",
       "    }\n",
       "\n",
       "    .dataframe thead tr th {\n",
       "        text-align: left;\n",
       "    }\n",
       "\n",
       "    .dataframe thead tr:last-of-type th {\n",
       "        text-align: right;\n",
       "    }\n",
       "</style>\n",
       "<table border=\"1\" class=\"dataframe\">\n",
       "  <thead>\n",
       "    <tr>\n",
       "      <th></th>\n",
       "      <th colspan=\"3\" halign=\"left\">mean_price</th>\n",
       "    </tr>\n",
       "    <tr>\n",
       "      <th></th>\n",
       "      <th>mean</th>\n",
       "      <th>min</th>\n",
       "      <th>max</th>\n",
       "    </tr>\n",
       "    <tr>\n",
       "      <th>dairy_eggs_status</th>\n",
       "      <th></th>\n",
       "      <th></th>\n",
       "      <th></th>\n",
       "    </tr>\n",
       "  </thead>\n",
       "  <tbody>\n",
       "    <tr>\n",
       "      <th>no</th>\n",
       "      <td>11.845917</td>\n",
       "      <td>1.00000</td>\n",
       "      <td>15006.94</td>\n",
       "    </tr>\n",
       "    <tr>\n",
       "      <th>yes</th>\n",
       "      <td>12.369873</td>\n",
       "      <td>1.56875</td>\n",
       "      <td>15006.94</td>\n",
       "    </tr>\n",
       "  </tbody>\n",
       "</table>\n",
       "</div>"
      ],
      "text/plain": [
       "                  mean_price                   \n",
       "                        mean      min       max\n",
       "dairy_eggs_status                              \n",
       "no                 11.845917  1.00000  15006.94\n",
       "yes                12.369873  1.56875  15006.94"
      ]
     },
     "execution_count": 80,
     "metadata": {},
     "output_type": "execute_result"
    }
   ],
   "source": [
    "#looking at dairy_eggs status statistics\n",
    "active.groupby('dairy_eggs_status').agg({'mean_price': ['mean', 'min', 'max']})"
   ]
  },
  {
   "cell_type": "code",
   "execution_count": 81,
   "id": "a24b505e",
   "metadata": {},
   "outputs": [
    {
     "data": {
      "text/html": [
       "<div>\n",
       "<style scoped>\n",
       "    .dataframe tbody tr th:only-of-type {\n",
       "        vertical-align: middle;\n",
       "    }\n",
       "\n",
       "    .dataframe tbody tr th {\n",
       "        vertical-align: top;\n",
       "    }\n",
       "\n",
       "    .dataframe thead tr th {\n",
       "        text-align: left;\n",
       "    }\n",
       "\n",
       "    .dataframe thead tr:last-of-type th {\n",
       "        text-align: right;\n",
       "    }\n",
       "</style>\n",
       "<table border=\"1\" class=\"dataframe\">\n",
       "  <thead>\n",
       "    <tr>\n",
       "      <th></th>\n",
       "      <th colspan=\"3\" halign=\"left\">median_days_since_previous_order</th>\n",
       "    </tr>\n",
       "    <tr>\n",
       "      <th></th>\n",
       "      <th>mean</th>\n",
       "      <th>min</th>\n",
       "      <th>max</th>\n",
       "    </tr>\n",
       "    <tr>\n",
       "      <th>dairy_eggs_status</th>\n",
       "      <th></th>\n",
       "      <th></th>\n",
       "      <th></th>\n",
       "    </tr>\n",
       "  </thead>\n",
       "  <tbody>\n",
       "    <tr>\n",
       "      <th>no</th>\n",
       "      <td>10.001208</td>\n",
       "      <td>0.0</td>\n",
       "      <td>30.0</td>\n",
       "    </tr>\n",
       "    <tr>\n",
       "      <th>yes</th>\n",
       "      <td>9.737636</td>\n",
       "      <td>0.0</td>\n",
       "      <td>30.0</td>\n",
       "    </tr>\n",
       "  </tbody>\n",
       "</table>\n",
       "</div>"
      ],
      "text/plain": [
       "                  median_days_since_previous_order           \n",
       "                                              mean  min   max\n",
       "dairy_eggs_status                                            \n",
       "no                                       10.001208  0.0  30.0\n",
       "yes                                       9.737636  0.0  30.0"
      ]
     },
     "execution_count": 81,
     "metadata": {},
     "output_type": "execute_result"
    }
   ],
   "source": [
    "#looking at alcohol status statistics\n",
    "active.groupby('dairy_eggs_status').agg({'median_days_since_previous_order': ['mean', 'min', 'max']})"
   ]
  },
  {
   "cell_type": "markdown",
   "id": "6ce27c92",
   "metadata": {},
   "source": [
    "## 8: Compare your customer profiles with regions and departments. Can you identify a link between them? Customers may demonstrate different behaviors across regions, which could make this information important."
   ]
  },
  {
   "cell_type": "markdown",
   "id": "3bb04588",
   "metadata": {},
   "source": [
    "#### Regional Distribution"
   ]
  },
  {
   "cell_type": "code",
   "execution_count": 82,
   "id": "17662b68",
   "metadata": {},
   "outputs": [],
   "source": [
    "#profiles with region and age group\n",
    "crosstab1 = pd.crosstab(active['region'], active['age_group'], dropna = False)"
   ]
  },
  {
   "cell_type": "code",
   "execution_count": 83,
   "id": "6c2dcbf9",
   "metadata": {},
   "outputs": [
    {
     "data": {
      "text/html": [
       "<div>\n",
       "<style scoped>\n",
       "    .dataframe tbody tr th:only-of-type {\n",
       "        vertical-align: middle;\n",
       "    }\n",
       "\n",
       "    .dataframe tbody tr th {\n",
       "        vertical-align: top;\n",
       "    }\n",
       "\n",
       "    .dataframe thead th {\n",
       "        text-align: right;\n",
       "    }\n",
       "</style>\n",
       "<table border=\"1\" class=\"dataframe\">\n",
       "  <thead>\n",
       "    <tr style=\"text-align: right;\">\n",
       "      <th>age_group</th>\n",
       "      <th>Adult</th>\n",
       "      <th>Senior</th>\n",
       "      <th>Young Adult</th>\n",
       "    </tr>\n",
       "    <tr>\n",
       "      <th>region</th>\n",
       "      <th></th>\n",
       "      <th></th>\n",
       "      <th></th>\n",
       "    </tr>\n",
       "  </thead>\n",
       "  <tbody>\n",
       "    <tr>\n",
       "      <th>Midwest</th>\n",
       "      <td>4459312</td>\n",
       "      <td>1904046</td>\n",
       "      <td>898155</td>\n",
       "    </tr>\n",
       "    <tr>\n",
       "      <th>Northeast</th>\n",
       "      <td>3299969</td>\n",
       "      <td>1484807</td>\n",
       "      <td>679909</td>\n",
       "    </tr>\n",
       "    <tr>\n",
       "      <th>South</th>\n",
       "      <td>6287689</td>\n",
       "      <td>2708461</td>\n",
       "      <td>1314989</td>\n",
       "    </tr>\n",
       "    <tr>\n",
       "      <th>West</th>\n",
       "      <td>4857532</td>\n",
       "      <td>2098230</td>\n",
       "      <td>971465</td>\n",
       "    </tr>\n",
       "  </tbody>\n",
       "</table>\n",
       "</div>"
      ],
      "text/plain": [
       "age_group    Adult   Senior  Young Adult\n",
       "region                                  \n",
       "Midwest    4459312  1904046       898155\n",
       "Northeast  3299969  1484807       679909\n",
       "South      6287689  2708461      1314989\n",
       "West       4857532  2098230       971465"
      ]
     },
     "execution_count": 83,
     "metadata": {},
     "output_type": "execute_result"
    }
   ],
   "source": [
    "crosstab1"
   ]
  },
  {
   "cell_type": "code",
   "execution_count": 84,
   "id": "e9784556",
   "metadata": {},
   "outputs": [
    {
     "data": {
      "image/png": "[encoded data removed]",
      "text/plain": [
       "<Figure size 640x480 with 1 Axes>"
      ]
     },
     "metadata": {},
     "output_type": "display_data"
    }
   ],
   "source": [
    "#create a bar chart\n",
    "bar = crosstab1.plot(kind='bar', stacked =True)"
   ]
  },
  {
   "cell_type": "code",
   "execution_count": 85,
   "id": "062af8b4",
   "metadata": {},
   "outputs": [],
   "source": [
    "#saving bar chart to file\n",
    "bar.figure.savefig(os.path.join(path, 'Analysis','Visualizations', 'region_age_stacked_bar.png'))"
   ]
  },
  {
   "cell_type": "code",
   "execution_count": 86,
   "id": "85f930d1",
   "metadata": {},
   "outputs": [],
   "source": [
    "# profiles with region and income class\n",
    "crosstab2 = pd.crosstab(active['region'], active['income_class'], dropna = False)"
   ]
  },
  {
   "cell_type": "code",
   "execution_count": 87,
   "id": "1a6c5ef0",
   "metadata": {},
   "outputs": [
    {
     "data": {
      "text/html": [
       "<div>\n",
       "<style scoped>\n",
       "    .dataframe tbody tr th:only-of-type {\n",
       "        vertical-align: middle;\n",
       "    }\n",
       "\n",
       "    .dataframe tbody tr th {\n",
       "        vertical-align: top;\n",
       "    }\n",
       "\n",
       "    .dataframe thead th {\n",
       "        text-align: right;\n",
       "    }\n",
       "</style>\n",
       "<table border=\"1\" class=\"dataframe\">\n",
       "  <thead>\n",
       "    <tr style=\"text-align: right;\">\n",
       "      <th>income_class</th>\n",
       "      <th>Lower Class</th>\n",
       "      <th>Middle Class</th>\n",
       "      <th>Upper Class</th>\n",
       "    </tr>\n",
       "    <tr>\n",
       "      <th>region</th>\n",
       "      <th></th>\n",
       "      <th></th>\n",
       "      <th></th>\n",
       "    </tr>\n",
       "  </thead>\n",
       "  <tbody>\n",
       "    <tr>\n",
       "      <th>Midwest</th>\n",
       "      <td>854638</td>\n",
       "      <td>5742788</td>\n",
       "      <td>664087</td>\n",
       "    </tr>\n",
       "    <tr>\n",
       "      <th>Northeast</th>\n",
       "      <td>637547</td>\n",
       "      <td>4338535</td>\n",
       "      <td>488603</td>\n",
       "    </tr>\n",
       "    <tr>\n",
       "      <th>South</th>\n",
       "      <td>1233080</td>\n",
       "      <td>8119003</td>\n",
       "      <td>959056</td>\n",
       "    </tr>\n",
       "    <tr>\n",
       "      <th>West</th>\n",
       "      <td>907549</td>\n",
       "      <td>6289778</td>\n",
       "      <td>729900</td>\n",
       "    </tr>\n",
       "  </tbody>\n",
       "</table>\n",
       "</div>"
      ],
      "text/plain": [
       "income_class  Lower Class  Middle Class  Upper Class\n",
       "region                                              \n",
       "Midwest            854638       5742788       664087\n",
       "Northeast          637547       4338535       488603\n",
       "South             1233080       8119003       959056\n",
       "West               907549       6289778       729900"
      ]
     },
     "execution_count": 87,
     "metadata": {},
     "output_type": "execute_result"
    }
   ],
   "source": [
    "crosstab2"
   ]
  },
  {
   "cell_type": "code",
   "execution_count": 88,
   "id": "5c30cc67",
   "metadata": {},
   "outputs": [
    {
     "data": {
      "image/png": "[encoded data removed]",
      "text/plain": [
       "<Figure size 640x480 with 1 Axes>"
      ]
     },
     "metadata": {},
     "output_type": "display_data"
    }
   ],
   "source": [
    "#create a bar chart\n",
    "bar2 = crosstab2.plot(kind='bar', stacked =True)"
   ]
  },
  {
   "cell_type": "code",
   "execution_count": 89,
   "id": "a8096e4c",
   "metadata": {},
   "outputs": [],
   "source": [
    "#saving bar chart to file\n",
    "bar2.figure.savefig(os.path.join(path, 'Analysis','Visualizations', 'region_income_stacked_bar.png'))"
   ]
  },
  {
   "cell_type": "code",
   "execution_count": 90,
   "id": "9350927a",
   "metadata": {},
   "outputs": [],
   "source": [
    "#profiles with region and marital status\n",
    "crosstab3 = pd.crosstab(active['region'], active['marital_status'], dropna = False)"
   ]
  },
  {
   "cell_type": "code",
   "execution_count": 91,
   "id": "a37efa2e",
   "metadata": {},
   "outputs": [
    {
     "data": {
      "text/html": [
       "<div>\n",
       "<style scoped>\n",
       "    .dataframe tbody tr th:only-of-type {\n",
       "        vertical-align: middle;\n",
       "    }\n",
       "\n",
       "    .dataframe tbody tr th {\n",
       "        vertical-align: top;\n",
       "    }\n",
       "\n",
       "    .dataframe thead th {\n",
       "        text-align: right;\n",
       "    }\n",
       "</style>\n",
       "<table border=\"1\" class=\"dataframe\">\n",
       "  <thead>\n",
       "    <tr style=\"text-align: right;\">\n",
       "      <th>marital_status</th>\n",
       "      <th>divorced/widowed</th>\n",
       "      <th>living with parents and siblings</th>\n",
       "      <th>married</th>\n",
       "      <th>single</th>\n",
       "    </tr>\n",
       "    <tr>\n",
       "      <th>region</th>\n",
       "      <th></th>\n",
       "      <th></th>\n",
       "      <th></th>\n",
       "      <th></th>\n",
       "    </tr>\n",
       "  </thead>\n",
       "  <tbody>\n",
       "    <tr>\n",
       "      <th>Midwest</th>\n",
       "      <td>617198</td>\n",
       "      <td>351435</td>\n",
       "      <td>5087262</td>\n",
       "      <td>1205618</td>\n",
       "    </tr>\n",
       "    <tr>\n",
       "      <th>Northeast</th>\n",
       "      <td>478767</td>\n",
       "      <td>256430</td>\n",
       "      <td>3853773</td>\n",
       "      <td>875715</td>\n",
       "    </tr>\n",
       "    <tr>\n",
       "      <th>South</th>\n",
       "      <td>877314</td>\n",
       "      <td>505457</td>\n",
       "      <td>7223749</td>\n",
       "      <td>1704619</td>\n",
       "    </tr>\n",
       "    <tr>\n",
       "      <th>West</th>\n",
       "      <td>671992</td>\n",
       "      <td>367850</td>\n",
       "      <td>5578927</td>\n",
       "      <td>1308458</td>\n",
       "    </tr>\n",
       "  </tbody>\n",
       "</table>\n",
       "</div>"
      ],
      "text/plain": [
       "marital_status  divorced/widowed  living with parents and siblings  married  \\\n",
       "region                                                                        \n",
       "Midwest                   617198                            351435  5087262   \n",
       "Northeast                 478767                            256430  3853773   \n",
       "South                     877314                            505457  7223749   \n",
       "West                      671992                            367850  5578927   \n",
       "\n",
       "marital_status   single  \n",
       "region                   \n",
       "Midwest         1205618  \n",
       "Northeast        875715  \n",
       "South           1704619  \n",
       "West            1308458  "
      ]
     },
     "execution_count": 91,
     "metadata": {},
     "output_type": "execute_result"
    }
   ],
   "source": [
    "crosstab3"
   ]
  },
  {
   "cell_type": "code",
   "execution_count": 92,
   "id": "fdf593af",
   "metadata": {},
   "outputs": [
    {
     "data": {
      "image/png": "[encoded data removed]",
      "text/plain": [
       "<Figure size 640x480 with 1 Axes>"
      ]
     },
     "metadata": {},
     "output_type": "display_data"
    }
   ],
   "source": [
    "#create a bar chart\n",
    "bar3 = crosstab3.plot(kind='bar', stacked =True)"
   ]
  },
  {
   "cell_type": "code",
   "execution_count": 93,
   "id": "b754af11",
   "metadata": {},
   "outputs": [],
   "source": [
    "#saving bar chart to file\n",
    "bar3.figure.savefig(os.path.join(path, 'Analysis','Visualizations', 'region_martial_stacked_bar.png'))"
   ]
  },
  {
   "cell_type": "code",
   "execution_count": 94,
   "id": "e0b4ccfd",
   "metadata": {},
   "outputs": [],
   "source": [
    "#profiles with region and loyalty flag\n",
    "crosstab4 = pd.crosstab(active['region'], active['loyalty_flag'], dropna = False)"
   ]
  },
  {
   "cell_type": "code",
   "execution_count": 95,
   "id": "340a423a",
   "metadata": {},
   "outputs": [
    {
     "data": {
      "text/html": [
       "<div>\n",
       "<style scoped>\n",
       "    .dataframe tbody tr th:only-of-type {\n",
       "        vertical-align: middle;\n",
       "    }\n",
       "\n",
       "    .dataframe tbody tr th {\n",
       "        vertical-align: top;\n",
       "    }\n",
       "\n",
       "    .dataframe thead th {\n",
       "        text-align: right;\n",
       "    }\n",
       "</style>\n",
       "<table border=\"1\" class=\"dataframe\">\n",
       "  <thead>\n",
       "    <tr style=\"text-align: right;\">\n",
       "      <th>loyalty_flag</th>\n",
       "      <th>Loyal customer</th>\n",
       "      <th>New customer</th>\n",
       "      <th>Regular customer</th>\n",
       "    </tr>\n",
       "    <tr>\n",
       "      <th>region</th>\n",
       "      <th></th>\n",
       "      <th></th>\n",
       "      <th></th>\n",
       "    </tr>\n",
       "  </thead>\n",
       "  <tbody>\n",
       "    <tr>\n",
       "      <th>Midwest</th>\n",
       "      <td>2373774</td>\n",
       "      <td>1136761</td>\n",
       "      <td>3750978</td>\n",
       "    </tr>\n",
       "    <tr>\n",
       "      <th>Northeast</th>\n",
       "      <td>1841785</td>\n",
       "      <td>842156</td>\n",
       "      <td>2780744</td>\n",
       "    </tr>\n",
       "    <tr>\n",
       "      <th>South</th>\n",
       "      <td>3405844</td>\n",
       "      <td>1593664</td>\n",
       "      <td>5311631</td>\n",
       "    </tr>\n",
       "    <tr>\n",
       "      <th>West</th>\n",
       "      <td>2662690</td>\n",
       "      <td>1231114</td>\n",
       "      <td>4033423</td>\n",
       "    </tr>\n",
       "  </tbody>\n",
       "</table>\n",
       "</div>"
      ],
      "text/plain": [
       "loyalty_flag  Loyal customer  New customer  Regular customer\n",
       "region                                                      \n",
       "Midwest              2373774       1136761           3750978\n",
       "Northeast            1841785        842156           2780744\n",
       "South                3405844       1593664           5311631\n",
       "West                 2662690       1231114           4033423"
      ]
     },
     "execution_count": 95,
     "metadata": {},
     "output_type": "execute_result"
    }
   ],
   "source": [
    "crosstab4"
   ]
  },
  {
   "cell_type": "code",
   "execution_count": 96,
   "id": "0c86073b",
   "metadata": {},
   "outputs": [
    {
     "data": {
      "image/png": "[encoded data removed]",
      "text/plain": [
       "<Figure size 640x480 with 1 Axes>"
      ]
     },
     "metadata": {},
     "output_type": "display_data"
    }
   ],
   "source": [
    "#create a bar chart\n",
    "bar4 = crosstab4.plot(kind='bar', stacked =True)"
   ]
  },
  {
   "cell_type": "code",
   "execution_count": 97,
   "id": "0de64dac",
   "metadata": {},
   "outputs": [],
   "source": [
    "#saving bar chart to file\n",
    "bar4.figure.savefig(os.path.join(path, 'Analysis','Visualizations', 'region_loyalty_stacked_bar.png'))"
   ]
  },
  {
   "cell_type": "code",
   "execution_count": 98,
   "id": "d6a39ebd",
   "metadata": {},
   "outputs": [],
   "source": [
    "#profiles with region and price range\n",
    "crosstab5 = pd.crosstab(active['region'], active['price_range_loc'], dropna = False)"
   ]
  },
  {
   "cell_type": "code",
   "execution_count": 99,
   "id": "27408f24",
   "metadata": {},
   "outputs": [
    {
     "data": {
      "text/html": [
       "<div>\n",
       "<style scoped>\n",
       "    .dataframe tbody tr th:only-of-type {\n",
       "        vertical-align: middle;\n",
       "    }\n",
       "\n",
       "    .dataframe tbody tr th {\n",
       "        vertical-align: top;\n",
       "    }\n",
       "\n",
       "    .dataframe thead th {\n",
       "        text-align: right;\n",
       "    }\n",
       "</style>\n",
       "<table border=\"1\" class=\"dataframe\">\n",
       "  <thead>\n",
       "    <tr style=\"text-align: right;\">\n",
       "      <th>price_range_loc</th>\n",
       "      <th>High-range product</th>\n",
       "      <th>Low-range product</th>\n",
       "      <th>Mid-range product</th>\n",
       "    </tr>\n",
       "    <tr>\n",
       "      <th>region</th>\n",
       "      <th></th>\n",
       "      <th></th>\n",
       "      <th></th>\n",
       "    </tr>\n",
       "  </thead>\n",
       "  <tbody>\n",
       "    <tr>\n",
       "      <th>Midwest</th>\n",
       "      <td>93280</td>\n",
       "      <td>2267085</td>\n",
       "      <td>4901148</td>\n",
       "    </tr>\n",
       "    <tr>\n",
       "      <th>Northeast</th>\n",
       "      <td>69732</td>\n",
       "      <td>1712360</td>\n",
       "      <td>3682593</td>\n",
       "    </tr>\n",
       "    <tr>\n",
       "      <th>South</th>\n",
       "      <td>132661</td>\n",
       "      <td>3217500</td>\n",
       "      <td>6960978</td>\n",
       "    </tr>\n",
       "    <tr>\n",
       "      <th>West</th>\n",
       "      <td>102280</td>\n",
       "      <td>2477895</td>\n",
       "      <td>5347052</td>\n",
       "    </tr>\n",
       "  </tbody>\n",
       "</table>\n",
       "</div>"
      ],
      "text/plain": [
       "price_range_loc  High-range product  Low-range product  Mid-range product\n",
       "region                                                                   \n",
       "Midwest                       93280            2267085            4901148\n",
       "Northeast                     69732            1712360            3682593\n",
       "South                        132661            3217500            6960978\n",
       "West                         102280            2477895            5347052"
      ]
     },
     "execution_count": 99,
     "metadata": {},
     "output_type": "execute_result"
    }
   ],
   "source": [
    "crosstab5"
   ]
  },
  {
   "cell_type": "code",
   "execution_count": 100,
   "id": "83773c3f",
   "metadata": {},
   "outputs": [
    {
     "data": {
      "image/png": "[encoded data removed]",
      "text/plain": [
       "<Figure size 640x480 with 1 Axes>"
      ]
     },
     "metadata": {},
     "output_type": "display_data"
    }
   ],
   "source": [
    "#create a bar chart\n",
    "bar5 = crosstab5.plot(kind='bar', stacked =True)"
   ]
  },
  {
   "cell_type": "code",
   "execution_count": 101,
   "id": "b6f64ff0",
   "metadata": {},
   "outputs": [],
   "source": [
    "#saving bar chart to file\n",
    "bar5.figure.savefig(os.path.join(path, 'Analysis','Visualizations', 'region_price_range_stacked_bar.png'))"
   ]
  },
  {
   "cell_type": "code",
   "execution_count": 102,
   "id": "de5e7791",
   "metadata": {},
   "outputs": [],
   "source": [
    "#profiles with region and departments\n",
    "crosstab6 = pd.crosstab(active['department'], active['region'], dropna = False)"
   ]
  },
  {
   "cell_type": "code",
   "execution_count": 103,
   "id": "d7823259",
   "metadata": {},
   "outputs": [
    {
     "data": {
      "text/html": [
       "<div>\n",
       "<style scoped>\n",
       "    .dataframe tbody tr th:only-of-type {\n",
       "        vertical-align: middle;\n",
       "    }\n",
       "\n",
       "    .dataframe tbody tr th {\n",
       "        vertical-align: top;\n",
       "    }\n",
       "\n",
       "    .dataframe thead th {\n",
       "        text-align: right;\n",
       "    }\n",
       "</style>\n",
       "<table border=\"1\" class=\"dataframe\">\n",
       "  <thead>\n",
       "    <tr style=\"text-align: right;\">\n",
       "      <th>region</th>\n",
       "      <th>Midwest</th>\n",
       "      <th>Northeast</th>\n",
       "      <th>South</th>\n",
       "      <th>West</th>\n",
       "    </tr>\n",
       "    <tr>\n",
       "      <th>department</th>\n",
       "      <th></th>\n",
       "      <th></th>\n",
       "      <th></th>\n",
       "      <th></th>\n",
       "    </tr>\n",
       "  </thead>\n",
       "  <tbody>\n",
       "    <tr>\n",
       "      <th>alcohol</th>\n",
       "      <td>34043</td>\n",
       "      <td>25017</td>\n",
       "      <td>48813</td>\n",
       "      <td>36754</td>\n",
       "    </tr>\n",
       "    <tr>\n",
       "      <th>babies</th>\n",
       "      <td>95741</td>\n",
       "      <td>72712</td>\n",
       "      <td>139511</td>\n",
       "      <td>102428</td>\n",
       "    </tr>\n",
       "    <tr>\n",
       "      <th>bakery</th>\n",
       "      <td>261753</td>\n",
       "      <td>199300</td>\n",
       "      <td>371620</td>\n",
       "      <td>288155</td>\n",
       "    </tr>\n",
       "    <tr>\n",
       "      <th>beverages</th>\n",
       "      <td>598979</td>\n",
       "      <td>462929</td>\n",
       "      <td>859419</td>\n",
       "      <td>650574</td>\n",
       "    </tr>\n",
       "    <tr>\n",
       "      <th>breakfast</th>\n",
       "      <td>156155</td>\n",
       "      <td>117904</td>\n",
       "      <td>223172</td>\n",
       "      <td>173619</td>\n",
       "    </tr>\n",
       "    <tr>\n",
       "      <th>bulk</th>\n",
       "      <td>7929</td>\n",
       "      <td>5599</td>\n",
       "      <td>11180</td>\n",
       "      <td>8743</td>\n",
       "    </tr>\n",
       "    <tr>\n",
       "      <th>canned goods</th>\n",
       "      <td>237459</td>\n",
       "      <td>176936</td>\n",
       "      <td>337458</td>\n",
       "      <td>260221</td>\n",
       "    </tr>\n",
       "    <tr>\n",
       "      <th>dairy eggs</th>\n",
       "      <td>1212490</td>\n",
       "      <td>914616</td>\n",
       "      <td>1723016</td>\n",
       "      <td>1327060</td>\n",
       "    </tr>\n",
       "    <tr>\n",
       "      <th>deli</th>\n",
       "      <td>234464</td>\n",
       "      <td>178398</td>\n",
       "      <td>333620</td>\n",
       "      <td>257352</td>\n",
       "    </tr>\n",
       "    <tr>\n",
       "      <th>dry goods pasta</th>\n",
       "      <td>193463</td>\n",
       "      <td>143817</td>\n",
       "      <td>272813</td>\n",
       "      <td>212043</td>\n",
       "    </tr>\n",
       "    <tr>\n",
       "      <th>frozen</th>\n",
       "      <td>498225</td>\n",
       "      <td>370436</td>\n",
       "      <td>709906</td>\n",
       "      <td>543164</td>\n",
       "    </tr>\n",
       "    <tr>\n",
       "      <th>household</th>\n",
       "      <td>166992</td>\n",
       "      <td>124604</td>\n",
       "      <td>230061</td>\n",
       "      <td>178200</td>\n",
       "    </tr>\n",
       "    <tr>\n",
       "      <th>international</th>\n",
       "      <td>60666</td>\n",
       "      <td>44678</td>\n",
       "      <td>84649</td>\n",
       "      <td>65998</td>\n",
       "    </tr>\n",
       "    <tr>\n",
       "      <th>meat seafood</th>\n",
       "      <td>158260</td>\n",
       "      <td>118571</td>\n",
       "      <td>224120</td>\n",
       "      <td>173830</td>\n",
       "    </tr>\n",
       "    <tr>\n",
       "      <th>missing</th>\n",
       "      <td>15563</td>\n",
       "      <td>11512</td>\n",
       "      <td>21787</td>\n",
       "      <td>15906</td>\n",
       "    </tr>\n",
       "    <tr>\n",
       "      <th>other</th>\n",
       "      <td>7983</td>\n",
       "      <td>6268</td>\n",
       "      <td>11579</td>\n",
       "      <td>8581</td>\n",
       "    </tr>\n",
       "    <tr>\n",
       "      <th>pantry</th>\n",
       "      <td>420334</td>\n",
       "      <td>312731</td>\n",
       "      <td>591754</td>\n",
       "      <td>457886</td>\n",
       "    </tr>\n",
       "    <tr>\n",
       "      <th>personal care</th>\n",
       "      <td>100398</td>\n",
       "      <td>74765</td>\n",
       "      <td>142496</td>\n",
       "      <td>106647</td>\n",
       "    </tr>\n",
       "    <tr>\n",
       "      <th>pets</th>\n",
       "      <td>21358</td>\n",
       "      <td>17734</td>\n",
       "      <td>29909</td>\n",
       "      <td>24059</td>\n",
       "    </tr>\n",
       "    <tr>\n",
       "      <th>produce</th>\n",
       "      <td>2134115</td>\n",
       "      <td>1593004</td>\n",
       "      <td>3027476</td>\n",
       "      <td>2324678</td>\n",
       "    </tr>\n",
       "    <tr>\n",
       "      <th>snacks</th>\n",
       "      <td>645143</td>\n",
       "      <td>493154</td>\n",
       "      <td>916780</td>\n",
       "      <td>711329</td>\n",
       "    </tr>\n",
       "  </tbody>\n",
       "</table>\n",
       "</div>"
      ],
      "text/plain": [
       "region           Midwest  Northeast    South     West\n",
       "department                                           \n",
       "alcohol            34043      25017    48813    36754\n",
       "babies             95741      72712   139511   102428\n",
       "bakery            261753     199300   371620   288155\n",
       "beverages         598979     462929   859419   650574\n",
       "breakfast         156155     117904   223172   173619\n",
       "bulk                7929       5599    11180     8743\n",
       "canned goods      237459     176936   337458   260221\n",
       "dairy eggs       1212490     914616  1723016  1327060\n",
       "deli              234464     178398   333620   257352\n",
       "dry goods pasta   193463     143817   272813   212043\n",
       "frozen            498225     370436   709906   543164\n",
       "household         166992     124604   230061   178200\n",
       "international      60666      44678    84649    65998\n",
       "meat seafood      158260     118571   224120   173830\n",
       "missing            15563      11512    21787    15906\n",
       "other               7983       6268    11579     8581\n",
       "pantry            420334     312731   591754   457886\n",
       "personal care     100398      74765   142496   106647\n",
       "pets               21358      17734    29909    24059\n",
       "produce          2134115    1593004  3027476  2324678\n",
       "snacks            645143     493154   916780   711329"
      ]
     },
     "execution_count": 103,
     "metadata": {},
     "output_type": "execute_result"
    }
   ],
   "source": [
    "crosstab6"
   ]
  },
  {
   "cell_type": "code",
   "execution_count": 104,
   "id": "9a9243e5",
   "metadata": {},
   "outputs": [
    {
     "data": {
      "image/png": "[encoded data removed]",
      "text/plain": [
       "<Figure size 640x480 with 1 Axes>"
      ]
     },
     "metadata": {},
     "output_type": "display_data"
    }
   ],
   "source": [
    "#create a bar chart\n",
    "bar6 = crosstab6.plot(kind='barh', stacked =True)"
   ]
  },
  {
   "cell_type": "code",
   "execution_count": 105,
   "id": "5d0076ed",
   "metadata": {},
   "outputs": [],
   "source": [
    "#saving bar chart to file\n",
    "bar6.figure.savefig(os.path.join(path, 'Analysis','Visualizations', 'region_department_stacked_bar.png'))"
   ]
  },
  {
   "cell_type": "markdown",
   "id": "8d945a17",
   "metadata": {},
   "source": [
    "#### Customer Profiles Distribution"
   ]
  },
  {
   "cell_type": "code",
   "execution_count": 106,
   "id": "e914109e",
   "metadata": {},
   "outputs": [],
   "source": [
    "#profiles with order frequency and income\n",
    "crosstab7 = pd.crosstab(active['income_class'], active['Frequency_flag'], dropna = False)"
   ]
  },
  {
   "cell_type": "code",
   "execution_count": 107,
   "id": "bf464559",
   "metadata": {},
   "outputs": [
    {
     "data": {
      "text/html": [
       "<div>\n",
       "<style scoped>\n",
       "    .dataframe tbody tr th:only-of-type {\n",
       "        vertical-align: middle;\n",
       "    }\n",
       "\n",
       "    .dataframe tbody tr th {\n",
       "        vertical-align: top;\n",
       "    }\n",
       "\n",
       "    .dataframe thead th {\n",
       "        text-align: right;\n",
       "    }\n",
       "</style>\n",
       "<table border=\"1\" class=\"dataframe\">\n",
       "  <thead>\n",
       "    <tr style=\"text-align: right;\">\n",
       "      <th>Frequency_flag</th>\n",
       "      <th>Frequent customer</th>\n",
       "      <th>Non-frequent customer</th>\n",
       "      <th>Regular customer</th>\n",
       "    </tr>\n",
       "    <tr>\n",
       "      <th>income_class</th>\n",
       "      <th></th>\n",
       "      <th></th>\n",
       "      <th></th>\n",
       "    </tr>\n",
       "  </thead>\n",
       "  <tbody>\n",
       "    <tr>\n",
       "      <th>Lower Class</th>\n",
       "      <td>2382529</td>\n",
       "      <td>403590</td>\n",
       "      <td>846695</td>\n",
       "    </tr>\n",
       "    <tr>\n",
       "      <th>Middle Class</th>\n",
       "      <td>16848387</td>\n",
       "      <td>2241649</td>\n",
       "      <td>5400068</td>\n",
       "    </tr>\n",
       "    <tr>\n",
       "      <th>Upper Class</th>\n",
       "      <td>1973560</td>\n",
       "      <td>249736</td>\n",
       "      <td>618350</td>\n",
       "    </tr>\n",
       "  </tbody>\n",
       "</table>\n",
       "</div>"
      ],
      "text/plain": [
       "Frequency_flag  Frequent customer  Non-frequent customer  Regular customer\n",
       "income_class                                                              \n",
       "Lower Class               2382529                 403590            846695\n",
       "Middle Class             16848387                2241649           5400068\n",
       "Upper Class               1973560                 249736            618350"
      ]
     },
     "execution_count": 107,
     "metadata": {},
     "output_type": "execute_result"
    }
   ],
   "source": [
    "crosstab7"
   ]
  },
  {
   "cell_type": "code",
   "execution_count": 108,
   "id": "7ff6421a",
   "metadata": {},
   "outputs": [
    {
     "data": {
      "image/png": "[encoded data removed]",
      "text/plain": [
       "<Figure size 640x480 with 1 Axes>"
      ]
     },
     "metadata": {},
     "output_type": "display_data"
    }
   ],
   "source": [
    "#create a bar chart\n",
    "bar7 = crosstab7.plot(kind='bar', stacked =True)"
   ]
  },
  {
   "cell_type": "code",
   "execution_count": 109,
   "id": "358af33b",
   "metadata": {},
   "outputs": [],
   "source": [
    "#saving bar chart to file\n",
    "bar7.figure.savefig(os.path.join(path, 'Analysis','Visualizations', 'income_frequency_stacked_bar.png'))"
   ]
  },
  {
   "cell_type": "code",
   "execution_count": 110,
   "id": "14cecdb4",
   "metadata": {},
   "outputs": [],
   "source": [
    "#profiles with order frequency and age group\n",
    "crosstab8 = pd.crosstab(active['age_group'], active['Frequency_flag'], dropna = False)"
   ]
  },
  {
   "cell_type": "code",
   "execution_count": 111,
   "id": "dbfceda7",
   "metadata": {},
   "outputs": [
    {
     "data": {
      "text/html": [
       "<div>\n",
       "<style scoped>\n",
       "    .dataframe tbody tr th:only-of-type {\n",
       "        vertical-align: middle;\n",
       "    }\n",
       "\n",
       "    .dataframe tbody tr th {\n",
       "        vertical-align: top;\n",
       "    }\n",
       "\n",
       "    .dataframe thead th {\n",
       "        text-align: right;\n",
       "    }\n",
       "</style>\n",
       "<table border=\"1\" class=\"dataframe\">\n",
       "  <thead>\n",
       "    <tr style=\"text-align: right;\">\n",
       "      <th>Frequency_flag</th>\n",
       "      <th>Frequent customer</th>\n",
       "      <th>Non-frequent customer</th>\n",
       "      <th>Regular customer</th>\n",
       "    </tr>\n",
       "    <tr>\n",
       "      <th>age_group</th>\n",
       "      <th></th>\n",
       "      <th></th>\n",
       "      <th></th>\n",
       "    </tr>\n",
       "  </thead>\n",
       "  <tbody>\n",
       "    <tr>\n",
       "      <th>Adult</th>\n",
       "      <td>12919571</td>\n",
       "      <td>1776404</td>\n",
       "      <td>4208527</td>\n",
       "    </tr>\n",
       "    <tr>\n",
       "      <th>Senior</th>\n",
       "      <td>5630976</td>\n",
       "      <td>760132</td>\n",
       "      <td>1804436</td>\n",
       "    </tr>\n",
       "    <tr>\n",
       "      <th>Young Adult</th>\n",
       "      <td>2653929</td>\n",
       "      <td>358439</td>\n",
       "      <td>852150</td>\n",
       "    </tr>\n",
       "  </tbody>\n",
       "</table>\n",
       "</div>"
      ],
      "text/plain": [
       "Frequency_flag  Frequent customer  Non-frequent customer  Regular customer\n",
       "age_group                                                                 \n",
       "Adult                    12919571                1776404           4208527\n",
       "Senior                    5630976                 760132           1804436\n",
       "Young Adult               2653929                 358439            852150"
      ]
     },
     "execution_count": 111,
     "metadata": {},
     "output_type": "execute_result"
    }
   ],
   "source": [
    "crosstab8"
   ]
  },
  {
   "cell_type": "code",
   "execution_count": 112,
   "id": "364a3f65",
   "metadata": {},
   "outputs": [
    {
     "data": {
      "image/png": "[encoded data removed]",
      "text/plain": [
       "<Figure size 640x480 with 1 Axes>"
      ]
     },
     "metadata": {},
     "output_type": "display_data"
    }
   ],
   "source": [
    "#create a bar chart\n",
    "bar8 = crosstab8.plot(kind='bar', stacked =True)"
   ]
  },
  {
   "cell_type": "code",
   "execution_count": 113,
   "id": "02cfb349",
   "metadata": {},
   "outputs": [],
   "source": [
    "#saving bar chart to file\n",
    "bar8.figure.savefig(os.path.join(path, 'Analysis','Visualizations', 'age_frequency_stacked_bar.png'))"
   ]
  },
  {
   "cell_type": "code",
   "execution_count": 114,
   "id": "f8e0f200",
   "metadata": {},
   "outputs": [],
   "source": [
    "#profiles with order frequency and marital_status\n",
    "crosstab9 = pd.crosstab(active['marital_status'], active['Frequency_flag'], dropna = False)"
   ]
  },
  {
   "cell_type": "code",
   "execution_count": 115,
   "id": "0d83fef4",
   "metadata": {},
   "outputs": [
    {
     "data": {
      "text/html": [
       "<div>\n",
       "<style scoped>\n",
       "    .dataframe tbody tr th:only-of-type {\n",
       "        vertical-align: middle;\n",
       "    }\n",
       "\n",
       "    .dataframe tbody tr th {\n",
       "        vertical-align: top;\n",
       "    }\n",
       "\n",
       "    .dataframe thead th {\n",
       "        text-align: right;\n",
       "    }\n",
       "</style>\n",
       "<table border=\"1\" class=\"dataframe\">\n",
       "  <thead>\n",
       "    <tr style=\"text-align: right;\">\n",
       "      <th>Frequency_flag</th>\n",
       "      <th>Frequent customer</th>\n",
       "      <th>Non-frequent customer</th>\n",
       "      <th>Regular customer</th>\n",
       "    </tr>\n",
       "    <tr>\n",
       "      <th>marital_status</th>\n",
       "      <th></th>\n",
       "      <th></th>\n",
       "      <th></th>\n",
       "    </tr>\n",
       "  </thead>\n",
       "  <tbody>\n",
       "    <tr>\n",
       "      <th>divorced/widowed</th>\n",
       "      <td>1819123</td>\n",
       "      <td>243934</td>\n",
       "      <td>582214</td>\n",
       "    </tr>\n",
       "    <tr>\n",
       "      <th>living with parents and siblings</th>\n",
       "      <td>1030514</td>\n",
       "      <td>138646</td>\n",
       "      <td>312012</td>\n",
       "    </tr>\n",
       "    <tr>\n",
       "      <th>married</th>\n",
       "      <td>14888825</td>\n",
       "      <td>2039823</td>\n",
       "      <td>4815063</td>\n",
       "    </tr>\n",
       "    <tr>\n",
       "      <th>single</th>\n",
       "      <td>3466014</td>\n",
       "      <td>472572</td>\n",
       "      <td>1155824</td>\n",
       "    </tr>\n",
       "  </tbody>\n",
       "</table>\n",
       "</div>"
      ],
      "text/plain": [
       "Frequency_flag                    Frequent customer  Non-frequent customer  \\\n",
       "marital_status                                                               \n",
       "divorced/widowed                            1819123                 243934   \n",
       "living with parents and siblings            1030514                 138646   \n",
       "married                                    14888825                2039823   \n",
       "single                                      3466014                 472572   \n",
       "\n",
       "Frequency_flag                    Regular customer  \n",
       "marital_status                                      \n",
       "divorced/widowed                            582214  \n",
       "living with parents and siblings            312012  \n",
       "married                                    4815063  \n",
       "single                                     1155824  "
      ]
     },
     "execution_count": 115,
     "metadata": {},
     "output_type": "execute_result"
    }
   ],
   "source": [
    "crosstab9"
   ]
  },
  {
   "cell_type": "code",
   "execution_count": 116,
   "id": "bba73a0e",
   "metadata": {},
   "outputs": [
    {
     "data": {
      "image/png": "[encoded data removed]",
      "text/plain": [
       "<Figure size 640x480 with 1 Axes>"
      ]
     },
     "metadata": {},
     "output_type": "display_data"
    }
   ],
   "source": [
    "#create a bar chart\n",
    "bar9 = crosstab9.plot(kind='barh', stacked =True)"
   ]
  },
  {
   "cell_type": "code",
   "execution_count": 117,
   "id": "aefd6b83",
   "metadata": {},
   "outputs": [],
   "source": [
    "#saving bar chart to file\n",
    "bar9.figure.savefig(os.path.join(path, 'Analysis','Visualizations', 'marital_frequency_stacked_bar.png'))"
   ]
  },
  {
   "cell_type": "markdown",
   "id": "c81ed2dd",
   "metadata": {},
   "source": [
    "#### Price Range Distribution"
   ]
  },
  {
   "cell_type": "code",
   "execution_count": 118,
   "id": "e7d9573b",
   "metadata": {},
   "outputs": [],
   "source": [
    "#profiles with price range and loyalty\n",
    "crosstab10 = pd.crosstab(active['price_range_loc'], active['loyalty_flag'], dropna = False)"
   ]
  },
  {
   "cell_type": "code",
   "execution_count": 119,
   "id": "589349d8",
   "metadata": {},
   "outputs": [
    {
     "data": {
      "text/html": [
       "<div>\n",
       "<style scoped>\n",
       "    .dataframe tbody tr th:only-of-type {\n",
       "        vertical-align: middle;\n",
       "    }\n",
       "\n",
       "    .dataframe tbody tr th {\n",
       "        vertical-align: top;\n",
       "    }\n",
       "\n",
       "    .dataframe thead th {\n",
       "        text-align: right;\n",
       "    }\n",
       "</style>\n",
       "<table border=\"1\" class=\"dataframe\">\n",
       "  <thead>\n",
       "    <tr style=\"text-align: right;\">\n",
       "      <th>loyalty_flag</th>\n",
       "      <th>Loyal customer</th>\n",
       "      <th>New customer</th>\n",
       "      <th>Regular customer</th>\n",
       "    </tr>\n",
       "    <tr>\n",
       "      <th>price_range_loc</th>\n",
       "      <th></th>\n",
       "      <th></th>\n",
       "      <th></th>\n",
       "    </tr>\n",
       "  </thead>\n",
       "  <tbody>\n",
       "    <tr>\n",
       "      <th>High-range product</th>\n",
       "      <td>119936</td>\n",
       "      <td>65927</td>\n",
       "      <td>212090</td>\n",
       "    </tr>\n",
       "    <tr>\n",
       "      <th>Low-range product</th>\n",
       "      <td>3214690</td>\n",
       "      <td>1501288</td>\n",
       "      <td>4958862</td>\n",
       "    </tr>\n",
       "    <tr>\n",
       "      <th>Mid-range product</th>\n",
       "      <td>6949467</td>\n",
       "      <td>3236480</td>\n",
       "      <td>10705824</td>\n",
       "    </tr>\n",
       "  </tbody>\n",
       "</table>\n",
       "</div>"
      ],
      "text/plain": [
       "loyalty_flag        Loyal customer  New customer  Regular customer\n",
       "price_range_loc                                                   \n",
       "High-range product          119936         65927            212090\n",
       "Low-range product          3214690       1501288           4958862\n",
       "Mid-range product          6949467       3236480          10705824"
      ]
     },
     "execution_count": 119,
     "metadata": {},
     "output_type": "execute_result"
    }
   ],
   "source": [
    "crosstab10"
   ]
  },
  {
   "cell_type": "code",
   "execution_count": 120,
   "id": "9529e0e1",
   "metadata": {},
   "outputs": [
    {
     "data": {
      "image/png": "[encoded data removed]",
      "text/plain": [
       "<Figure size 640x480 with 1 Axes>"
      ]
     },
     "metadata": {},
     "output_type": "display_data"
    }
   ],
   "source": [
    "#create a bar chart\n",
    "bar10 = crosstab10.plot(kind='bar', stacked =True)"
   ]
  },
  {
   "cell_type": "code",
   "execution_count": 121,
   "id": "2ac6c1c5",
   "metadata": {},
   "outputs": [],
   "source": [
    "#saving bar chart to file\n",
    "bar10.figure.savefig(os.path.join(path, 'Analysis','Visualizations', 'price_loyalty_stacked_bar.png'))"
   ]
  },
  {
   "cell_type": "code",
   "execution_count": 122,
   "id": "645e37b9",
   "metadata": {},
   "outputs": [],
   "source": [
    "#profiles with price range and marital status\n",
    "crosstab11 = pd.crosstab(active['marital_status'], active['price_range_loc'], dropna = False)"
   ]
  },
  {
   "cell_type": "code",
   "execution_count": 123,
   "id": "bad71854",
   "metadata": {},
   "outputs": [
    {
     "data": {
      "text/html": [
       "<div>\n",
       "<style scoped>\n",
       "    .dataframe tbody tr th:only-of-type {\n",
       "        vertical-align: middle;\n",
       "    }\n",
       "\n",
       "    .dataframe tbody tr th {\n",
       "        vertical-align: top;\n",
       "    }\n",
       "\n",
       "    .dataframe thead th {\n",
       "        text-align: right;\n",
       "    }\n",
       "</style>\n",
       "<table border=\"1\" class=\"dataframe\">\n",
       "  <thead>\n",
       "    <tr style=\"text-align: right;\">\n",
       "      <th>price_range_loc</th>\n",
       "      <th>High-range product</th>\n",
       "      <th>Low-range product</th>\n",
       "      <th>Mid-range product</th>\n",
       "    </tr>\n",
       "    <tr>\n",
       "      <th>marital_status</th>\n",
       "      <th></th>\n",
       "      <th></th>\n",
       "      <th></th>\n",
       "    </tr>\n",
       "  </thead>\n",
       "  <tbody>\n",
       "    <tr>\n",
       "      <th>divorced/widowed</th>\n",
       "      <td>34134</td>\n",
       "      <td>826382</td>\n",
       "      <td>1784755</td>\n",
       "    </tr>\n",
       "    <tr>\n",
       "      <th>living with parents and siblings</th>\n",
       "      <td>18997</td>\n",
       "      <td>461807</td>\n",
       "      <td>1000368</td>\n",
       "    </tr>\n",
       "    <tr>\n",
       "      <th>married</th>\n",
       "      <td>281501</td>\n",
       "      <td>6793795</td>\n",
       "      <td>14668415</td>\n",
       "    </tr>\n",
       "    <tr>\n",
       "      <th>single</th>\n",
       "      <td>63321</td>\n",
       "      <td>1592856</td>\n",
       "      <td>3438233</td>\n",
       "    </tr>\n",
       "  </tbody>\n",
       "</table>\n",
       "</div>"
      ],
      "text/plain": [
       "price_range_loc                   High-range product  Low-range product  \\\n",
       "marital_status                                                            \n",
       "divorced/widowed                               34134             826382   \n",
       "living with parents and siblings               18997             461807   \n",
       "married                                       281501            6793795   \n",
       "single                                         63321            1592856   \n",
       "\n",
       "price_range_loc                   Mid-range product  \n",
       "marital_status                                       \n",
       "divorced/widowed                            1784755  \n",
       "living with parents and siblings            1000368  \n",
       "married                                    14668415  \n",
       "single                                      3438233  "
      ]
     },
     "execution_count": 123,
     "metadata": {},
     "output_type": "execute_result"
    }
   ],
   "source": [
    "crosstab11"
   ]
  },
  {
   "cell_type": "code",
   "execution_count": 124,
   "id": "a1c4b485",
   "metadata": {},
   "outputs": [
    {
     "data": {
      "image/png": "[encoded data removed]",
      "text/plain": [
       "<Figure size 640x480 with 1 Axes>"
      ]
     },
     "metadata": {},
     "output_type": "display_data"
    }
   ],
   "source": [
    "#create a bar chart\n",
    "bar11 = crosstab11.plot(kind='barh', stacked =True)"
   ]
  },
  {
   "cell_type": "code",
   "execution_count": 125,
   "id": "2d4ec34c",
   "metadata": {},
   "outputs": [],
   "source": [
    "#saving bar chart to file\n",
    "bar11.figure.savefig(os.path.join(path, 'Analysis','Visualizations', 'price_marital_stacked_bar.png'))"
   ]
  },
  {
   "cell_type": "code",
   "execution_count": 126,
   "id": "3740b10a",
   "metadata": {},
   "outputs": [],
   "source": [
    "#profiles with price range and age \n",
    "crosstab12 = pd.crosstab(active['age_group'], active['price_range_loc'], dropna = False)"
   ]
  },
  {
   "cell_type": "code",
   "execution_count": 127,
   "id": "5c98c245",
   "metadata": {},
   "outputs": [
    {
     "data": {
      "text/html": [
       "<div>\n",
       "<style scoped>\n",
       "    .dataframe tbody tr th:only-of-type {\n",
       "        vertical-align: middle;\n",
       "    }\n",
       "\n",
       "    .dataframe tbody tr th {\n",
       "        vertical-align: top;\n",
       "    }\n",
       "\n",
       "    .dataframe thead th {\n",
       "        text-align: right;\n",
       "    }\n",
       "</style>\n",
       "<table border=\"1\" class=\"dataframe\">\n",
       "  <thead>\n",
       "    <tr style=\"text-align: right;\">\n",
       "      <th>price_range_loc</th>\n",
       "      <th>High-range product</th>\n",
       "      <th>Low-range product</th>\n",
       "      <th>Mid-range product</th>\n",
       "    </tr>\n",
       "    <tr>\n",
       "      <th>age_group</th>\n",
       "      <th></th>\n",
       "      <th></th>\n",
       "      <th></th>\n",
       "    </tr>\n",
       "  </thead>\n",
       "  <tbody>\n",
       "    <tr>\n",
       "      <th>Adult</th>\n",
       "      <td>241294</td>\n",
       "      <td>5907163</td>\n",
       "      <td>12756045</td>\n",
       "    </tr>\n",
       "    <tr>\n",
       "      <th>Senior</th>\n",
       "      <td>106915</td>\n",
       "      <td>2559099</td>\n",
       "      <td>5529530</td>\n",
       "    </tr>\n",
       "    <tr>\n",
       "      <th>Young Adult</th>\n",
       "      <td>49744</td>\n",
       "      <td>1208578</td>\n",
       "      <td>2606196</td>\n",
       "    </tr>\n",
       "  </tbody>\n",
       "</table>\n",
       "</div>"
      ],
      "text/plain": [
       "price_range_loc  High-range product  Low-range product  Mid-range product\n",
       "age_group                                                                \n",
       "Adult                        241294            5907163           12756045\n",
       "Senior                       106915            2559099            5529530\n",
       "Young Adult                   49744            1208578            2606196"
      ]
     },
     "execution_count": 127,
     "metadata": {},
     "output_type": "execute_result"
    }
   ],
   "source": [
    "crosstab12"
   ]
  },
  {
   "cell_type": "code",
   "execution_count": 128,
   "id": "7cec6f3a",
   "metadata": {},
   "outputs": [
    {
     "data": {
      "image/png": "[encoded data removed]",
      "text/plain": [
       "<Figure size 640x480 with 1 Axes>"
      ]
     },
     "metadata": {},
     "output_type": "display_data"
    }
   ],
   "source": [
    "#create a bar chart\n",
    "bar12 = crosstab12.plot(kind='bar', stacked =True)"
   ]
  },
  {
   "cell_type": "code",
   "execution_count": 129,
   "id": "14e6ac27",
   "metadata": {},
   "outputs": [],
   "source": [
    "#saving bar chart to file\n",
    "bar12.figure.savefig(os.path.join(path, 'Analysis','Visualizations', 'price_age_stacked_bar.png'))"
   ]
  },
  {
   "cell_type": "code",
   "execution_count": 130,
   "id": "2ec309e7",
   "metadata": {},
   "outputs": [],
   "source": [
    "#profiles with price range and income\n",
    "crosstab13 = pd.crosstab(active['income_class'], active['price_range_loc'], dropna = False)"
   ]
  },
  {
   "cell_type": "code",
   "execution_count": 131,
   "id": "ee9a928a",
   "metadata": {},
   "outputs": [
    {
     "data": {
      "text/html": [
       "<div>\n",
       "<style scoped>\n",
       "    .dataframe tbody tr th:only-of-type {\n",
       "        vertical-align: middle;\n",
       "    }\n",
       "\n",
       "    .dataframe tbody tr th {\n",
       "        vertical-align: top;\n",
       "    }\n",
       "\n",
       "    .dataframe thead th {\n",
       "        text-align: right;\n",
       "    }\n",
       "</style>\n",
       "<table border=\"1\" class=\"dataframe\">\n",
       "  <thead>\n",
       "    <tr style=\"text-align: right;\">\n",
       "      <th>price_range_loc</th>\n",
       "      <th>High-range product</th>\n",
       "      <th>Low-range product</th>\n",
       "      <th>Mid-range product</th>\n",
       "    </tr>\n",
       "    <tr>\n",
       "      <th>income_class</th>\n",
       "      <th></th>\n",
       "      <th></th>\n",
       "      <th></th>\n",
       "    </tr>\n",
       "  </thead>\n",
       "  <tbody>\n",
       "    <tr>\n",
       "      <th>Lower Class</th>\n",
       "      <td>19992</td>\n",
       "      <td>1487532</td>\n",
       "      <td>2125290</td>\n",
       "    </tr>\n",
       "    <tr>\n",
       "      <th>Middle Class</th>\n",
       "      <td>335396</td>\n",
       "      <td>7338075</td>\n",
       "      <td>16816633</td>\n",
       "    </tr>\n",
       "    <tr>\n",
       "      <th>Upper Class</th>\n",
       "      <td>42565</td>\n",
       "      <td>849233</td>\n",
       "      <td>1949848</td>\n",
       "    </tr>\n",
       "  </tbody>\n",
       "</table>\n",
       "</div>"
      ],
      "text/plain": [
       "price_range_loc  High-range product  Low-range product  Mid-range product\n",
       "income_class                                                             \n",
       "Lower Class                   19992            1487532            2125290\n",
       "Middle Class                 335396            7338075           16816633\n",
       "Upper Class                   42565             849233            1949848"
      ]
     },
     "execution_count": 131,
     "metadata": {},
     "output_type": "execute_result"
    }
   ],
   "source": [
    "crosstab13"
   ]
  },
  {
   "cell_type": "code",
   "execution_count": 132,
   "id": "9292fbd4",
   "metadata": {},
   "outputs": [
    {
     "data": {
      "image/png": "[encoded data removed]",
      "text/plain": [
       "<Figure size 640x480 with 1 Axes>"
      ]
     },
     "metadata": {},
     "output_type": "display_data"
    }
   ],
   "source": [
    "#create a bar chart\n",
    "bar13 = crosstab13.plot(kind='bar', stacked =True)"
   ]
  },
  {
   "cell_type": "code",
   "execution_count": 133,
   "id": "52b6319f",
   "metadata": {},
   "outputs": [],
   "source": [
    "#saving bar chart to file\n",
    "bar13.figure.savefig(os.path.join(path, 'Analysis','Visualizations', 'price_income_stacked_bar.png'))"
   ]
  },
  {
   "cell_type": "code",
   "execution_count": 134,
   "id": "e4ac724d",
   "metadata": {},
   "outputs": [],
   "source": [
    "#9: export dataframe \n",
    "active.to_pickle(os.path.join(path, 'Data','Prepared Data', 'insta_final.pkl')) "
   ]
  },
  {
   "cell_type": "code",
   "execution_count": null,
   "id": "dca5b991",
   "metadata": {},
   "outputs": [],
   "source": []
  }
 ],
 "metadata": {
  "kernelspec": {
   "display_name": "Python 3 (ipykernel)",
   "language": "python",
   "name": "python3"
  },
  "language_info": {
   "codemirror_mode": {
    "name": "ipython",
    "version": 3
   },
   "file_extension": ".py",
   "mimetype": "text/x-python",
   "name": "python",
   "nbconvert_exporter": "python",
   "pygments_lexer": "ipython3",
   "version": "3.9.13"
  }
 },
 "nbformat": 4,
 "nbformat_minor": 5
}
